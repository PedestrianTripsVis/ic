{
 "cells": [
  {
   "cell_type": "code",
   "execution_count": 2,
   "metadata": {},
   "outputs": [],
   "source": [
    "import pandas as pd #pip install pandas"
   ]
  },
  {
   "cell_type": "markdown",
   "metadata": {},
   "source": [
    "#### Importando dados originais"
   ]
  },
  {
   "cell_type": "code",
   "execution_count": 3,
   "metadata": {},
   "outputs": [
    {
     "data": {
      "text/html": [
       "<div>\n",
       "<style scoped>\n",
       "    .dataframe tbody tr th:only-of-type {\n",
       "        vertical-align: middle;\n",
       "    }\n",
       "\n",
       "    .dataframe tbody tr th {\n",
       "        vertical-align: top;\n",
       "    }\n",
       "\n",
       "    .dataframe thead th {\n",
       "        text-align: right;\n",
       "    }\n",
       "</style>\n",
       "<table border=\"1\" class=\"dataframe\">\n",
       "  <thead>\n",
       "    <tr style=\"text-align: right;\">\n",
       "      <th></th>\n",
       "      <th>ZONA</th>\n",
       "      <th>MUNI_DOM</th>\n",
       "      <th>CO_DOM_X</th>\n",
       "      <th>CO_DOM_Y</th>\n",
       "      <th>ID_DOM</th>\n",
       "      <th>F_DOM</th>\n",
       "      <th>FE_DOM</th>\n",
       "      <th>DOM</th>\n",
       "      <th>CD_ENTRE</th>\n",
       "      <th>DATA</th>\n",
       "      <th>...</th>\n",
       "      <th>MODOPRIN</th>\n",
       "      <th>TIPVG</th>\n",
       "      <th>PAG_VIAG</th>\n",
       "      <th>TP_ESAUTO</th>\n",
       "      <th>VL_EST</th>\n",
       "      <th>PE_BICI</th>\n",
       "      <th>VIA_BICI</th>\n",
       "      <th>TP_ESBICI</th>\n",
       "      <th>DISTANCIA</th>\n",
       "      <th>ID_ORDEM</th>\n",
       "    </tr>\n",
       "  </thead>\n",
       "  <tbody>\n",
       "    <tr>\n",
       "      <th>0</th>\n",
       "      <td>1</td>\n",
       "      <td>36</td>\n",
       "      <td>333743</td>\n",
       "      <td>7394463</td>\n",
       "      <td>10001</td>\n",
       "      <td>1</td>\n",
       "      <td>15.416667</td>\n",
       "      <td>1</td>\n",
       "      <td>1</td>\n",
       "      <td>6092017</td>\n",
       "      <td>...</td>\n",
       "      <td>16.0</td>\n",
       "      <td>3.0</td>\n",
       "      <td>NaN</td>\n",
       "      <td>NaN</td>\n",
       "      <td>NaN</td>\n",
       "      <td>1.0</td>\n",
       "      <td>NaN</td>\n",
       "      <td>NaN</td>\n",
       "      <td>639.13</td>\n",
       "      <td>1</td>\n",
       "    </tr>\n",
       "    <tr>\n",
       "      <th>1</th>\n",
       "      <td>1</td>\n",
       "      <td>36</td>\n",
       "      <td>333743</td>\n",
       "      <td>7394463</td>\n",
       "      <td>10001</td>\n",
       "      <td>0</td>\n",
       "      <td>15.416667</td>\n",
       "      <td>1</td>\n",
       "      <td>1</td>\n",
       "      <td>6092017</td>\n",
       "      <td>...</td>\n",
       "      <td>16.0</td>\n",
       "      <td>3.0</td>\n",
       "      <td>NaN</td>\n",
       "      <td>NaN</td>\n",
       "      <td>NaN</td>\n",
       "      <td>1.0</td>\n",
       "      <td>NaN</td>\n",
       "      <td>NaN</td>\n",
       "      <td>639.13</td>\n",
       "      <td>2</td>\n",
       "    </tr>\n",
       "    <tr>\n",
       "      <th>2</th>\n",
       "      <td>1</td>\n",
       "      <td>36</td>\n",
       "      <td>333743</td>\n",
       "      <td>7394463</td>\n",
       "      <td>10001</td>\n",
       "      <td>0</td>\n",
       "      <td>15.416667</td>\n",
       "      <td>1</td>\n",
       "      <td>1</td>\n",
       "      <td>6092017</td>\n",
       "      <td>...</td>\n",
       "      <td>1.0</td>\n",
       "      <td>1.0</td>\n",
       "      <td>2.0</td>\n",
       "      <td>NaN</td>\n",
       "      <td>NaN</td>\n",
       "      <td>NaN</td>\n",
       "      <td>NaN</td>\n",
       "      <td>NaN</td>\n",
       "      <td>6651.77</td>\n",
       "      <td>3</td>\n",
       "    </tr>\n",
       "    <tr>\n",
       "      <th>3</th>\n",
       "      <td>1</td>\n",
       "      <td>36</td>\n",
       "      <td>333743</td>\n",
       "      <td>7394463</td>\n",
       "      <td>10001</td>\n",
       "      <td>0</td>\n",
       "      <td>15.416667</td>\n",
       "      <td>1</td>\n",
       "      <td>1</td>\n",
       "      <td>6092017</td>\n",
       "      <td>...</td>\n",
       "      <td>1.0</td>\n",
       "      <td>1.0</td>\n",
       "      <td>2.0</td>\n",
       "      <td>NaN</td>\n",
       "      <td>NaN</td>\n",
       "      <td>NaN</td>\n",
       "      <td>NaN</td>\n",
       "      <td>NaN</td>\n",
       "      <td>4243.30</td>\n",
       "      <td>4</td>\n",
       "    </tr>\n",
       "    <tr>\n",
       "      <th>4</th>\n",
       "      <td>1</td>\n",
       "      <td>36</td>\n",
       "      <td>333743</td>\n",
       "      <td>7394463</td>\n",
       "      <td>10001</td>\n",
       "      <td>0</td>\n",
       "      <td>15.416667</td>\n",
       "      <td>1</td>\n",
       "      <td>1</td>\n",
       "      <td>6092017</td>\n",
       "      <td>...</td>\n",
       "      <td>12.0</td>\n",
       "      <td>2.0</td>\n",
       "      <td>NaN</td>\n",
       "      <td>NaN</td>\n",
       "      <td>NaN</td>\n",
       "      <td>NaN</td>\n",
       "      <td>NaN</td>\n",
       "      <td>NaN</td>\n",
       "      <td>4557.62</td>\n",
       "      <td>5</td>\n",
       "    </tr>\n",
       "  </tbody>\n",
       "</table>\n",
       "<p>5 rows × 128 columns</p>\n",
       "</div>"
      ],
      "text/plain": [
       "   ZONA  MUNI_DOM  CO_DOM_X  CO_DOM_Y  ID_DOM  F_DOM     FE_DOM  DOM  \\\n",
       "0     1        36    333743   7394463   10001      1  15.416667    1   \n",
       "1     1        36    333743   7394463   10001      0  15.416667    1   \n",
       "2     1        36    333743   7394463   10001      0  15.416667    1   \n",
       "3     1        36    333743   7394463   10001      0  15.416667    1   \n",
       "4     1        36    333743   7394463   10001      0  15.416667    1   \n",
       "\n",
       "   CD_ENTRE     DATA  ...  MODOPRIN  TIPVG  PAG_VIAG  TP_ESAUTO  VL_EST  \\\n",
       "0         1  6092017  ...      16.0    3.0       NaN        NaN     NaN   \n",
       "1         1  6092017  ...      16.0    3.0       NaN        NaN     NaN   \n",
       "2         1  6092017  ...       1.0    1.0       2.0        NaN     NaN   \n",
       "3         1  6092017  ...       1.0    1.0       2.0        NaN     NaN   \n",
       "4         1  6092017  ...      12.0    2.0       NaN        NaN     NaN   \n",
       "\n",
       "   PE_BICI  VIA_BICI  TP_ESBICI  DISTANCIA  ID_ORDEM  \n",
       "0      1.0       NaN        NaN     639.13         1  \n",
       "1      1.0       NaN        NaN     639.13         2  \n",
       "2      NaN       NaN        NaN    6651.77         3  \n",
       "3      NaN       NaN        NaN    4243.30         4  \n",
       "4      NaN       NaN        NaN    4557.62         5  \n",
       "\n",
       "[5 rows x 128 columns]"
      ]
     },
     "execution_count": 3,
     "metadata": {},
     "output_type": "execute_result"
    }
   ],
   "source": [
    "od = pd.read_csv('../data/original/OD_2017_v1.csv')\n",
    "\n",
    "od.head()"
   ]
  },
  {
   "cell_type": "markdown",
   "metadata": {},
   "source": [
    "#### Deixando apenas as viagens com o modo de transporte principal sendo \"a Pé\""
   ]
  },
  {
   "cell_type": "code",
   "execution_count": 4,
   "metadata": {},
   "outputs": [
    {
     "name": "stdout",
     "output_type": "stream",
     "text": [
      "48285\n"
     ]
    }
   ],
   "source": [
    "od_walk = od.drop(od[od['MODOPRIN'] != 16.0].index, inplace=False)\n",
    "\n",
    "od_walk.head()\n",
    "print(len(od_walk))"
   ]
  },
  {
   "cell_type": "markdown",
   "metadata": {},
   "source": [
    "#### Filtrando de acordo com os zonas"
   ]
  },
  {
   "cell_type": "code",
   "execution_count": 7,
   "metadata": {},
   "outputs": [
    {
     "name": "stdout",
     "output_type": "stream",
     "text": [
      "342\n"
     ]
    }
   ],
   "source": [
    "CENTRO=[1, 2, 3, 4, 5, 6, 7, 8, 9, 18, 19, 20, 21, 22, 23, 24, 25, 26, 27, 28, 29, 30, 31, 32, 33, 34, 35, 36, 37]\n",
    "LESTE1=[10, 11, 12, 13, 14, 15, 16, 17, 38, 39, 40, 41, 42, 43, 44, 45, 46, 47, 48, 166, 167, 168, 169, 170, 171, 172, 173, 174, 175, 176, 177, 178, 208, 209, 210, 211, 212, 213, 214, 215, 216, 217, 218, 253, 254, 255, 256, 257, 258, 259, 260, 261, 262, 263]\n",
    "LESTE2=[179, 180, 181, 182, 183, 184, 185, 186, 187, 188, 189, 190, 191, 192, 193, 194, 195, 196, 197, 198, 199, 200, 201, 202, 203, 204, 205, 206, 207, 219, 220, 221, 222, 223, 224, 225, 226, 227, 228, 229, 230, 231, 232, 233, 234, 235, 264, 265, 266, 267]\n",
    "OESTE=[68, 69, 70, 71, 72, 73, 74, 75, 76, 77, 78, 79, 80, 81, 82, 83, 84, 85, 86, 87, 88, 89, 90, 91, 92, 93, 94, 95, 96, 97, 98, 99, 100, 101, 102, 103, 104, 105, 106, 107, 108, 113, 316, 317, 318, 319, 327, 328, 329, 330, 331, 332, 333, 334, 335, 336, 337, 338, 339, 340, 341, 342]\n",
    "NORTE2=[109, 110, 111, 112, 114, 115, 116, 117, 118, 119, 125, 126, 127, 120, 121, 122, 123, 124, 136, 137, 138, 139, 140, 141, 142, 143]\n",
    "NORTE1=[128, 129, 130, 131, 132, 133, 134, 135, 144, 145, 146, 147, 148, 149, 150, 151, 152, 153, 154, 155, 156, 157, 158, 159, 160, 161, 162, 163, 164, 165]\n",
    "SUL1=[49, 50, 51, 52, 53, 54, 55, 56, 57, 58, 59, 60, 61, 62, 63, 64, 65, 66, 67, 236, 237, 238, 239, 240, 241, 242, 243, 244, 245, 246, 247, 248, 249, 250, 251, 252, 273, 274, 275, 276]\n",
    "SUL2=[268, 269, 270, 271, 272, 277, 278, 279, 280, 281, 282, 283, 284, 285, 286, 287, 288, 289, 290, 291, 292, 293, 294, 295, 296, 297, 298, 299, 300, 301, 302, 303, 304, 305, 306, 307, 308, 309, 310, 311, 312, 313, 314, 315, 320, 321, 322, 323, 324, 325, 326]\n",
    "\n",
    "total = list(CENTRO)\n",
    "total.extend(LESTE1)\n",
    "total.extend(LESTE2)\n",
    "total.extend(OESTE)\n",
    "total.extend(NORTE2)\n",
    "total.extend(NORTE1)\n",
    "total.extend(SUL1)\n",
    "total.extend(SUL2)\n",
    "\n",
    "total = set(sorted(total))\n",
    "print(total[0])\n",
    "print(total[-1])\n",
    "\n",
    "# for i in range(1, 343):\n",
    "    \n",
    "\n",
    "\n",
    "\n",
    "# areas = {\n",
    "#     'SãoPaulo-Centro': ,\n",
    "#     'SãoPaulo-Oeste': OESTE,\n",
    "#     'SãoPaulo-Sul1':,\n",
    "#     'SãoPaulo-Sul2':,\n",
    "#     'SãoPaulo-Norte1':,\n",
    "#     'SãoPaulo-Norte2': NORTE2,\n",
    "#     'SãoPaulo-Leste1':,\n",
    "#     'SãoPaulo-Leste2':\n",
    "# }\n",
    "\n",
    "# walks_by_area = dict()"
   ]
  },
  {
   "cell_type": "code",
   "execution_count": 6,
   "metadata": {},
   "outputs": [
    {
     "name": "stdout",
     "output_type": "stream",
     "text": [
      "SubCentral-AreaCentral: 14508\n",
      "SubCentral-AreaNoroeste: 1339\n",
      "SubCentral-AreaNorte: 2446\n",
      "SubCentral-AreaNordeste: 3301\n",
      "SubCentral-AreaLeste: 2146\n",
      "SubCentral-AreaSudeste: 2338\n",
      "SubCentral-AreaSul: 2641\n",
      "SubCentral-AreaSudoeste: 1942\n",
      "SubCentral-AreaOeste: 1642\n",
      "Se-Distrito: 503\n",
      "Se-SubPrefeitura: 5626\n"
     ]
    }
   ],
   "source": [
    "for area, zones in areas.items():\n",
    "    walks = od_walk.drop(od_walk[~(od_walk['ZONA_O'] not in zones)].index, inplace=False)\n",
    "    walks = walks.drop(walks[~(walks['ZONA_D'] not in zones)].index, inplace=False)\n",
    "\n",
    "    print(f'{area}: {len(walks)}')\n",
    "    walks_by_area[area] = walks\n",
    "\n",
    "\n"
   ]
  },
  {
   "cell_type": "markdown",
   "metadata": {},
   "source": [
    "#### Salvando os dataframes"
   ]
  },
  {
   "cell_type": "code",
   "execution_count": 7,
   "metadata": {},
   "outputs": [],
   "source": [
    "for area, walks in walks_by_area.items():\n",
    "    walks.to_csv(f'../data/walks-by-area/{area}.csv')"
   ]
  }
 ],
 "metadata": {
  "interpreter": {
   "hash": "1b988f8bb4712b93bcd89fc19d075c18278de67a0fc55beec4a5674ceb7bc71d"
  },
  "kernelspec": {
   "display_name": "Python 3.8.10 64-bit ('env': venv)",
   "language": "python",
   "name": "python3"
  },
  "language_info": {
   "codemirror_mode": {
    "name": "ipython",
    "version": 3
   },
   "file_extension": ".py",
   "mimetype": "text/x-python",
   "name": "python",
   "nbconvert_exporter": "python",
   "pygments_lexer": "ipython3",
   "version": "3.9.7"
  },
  "orig_nbformat": 4
 },
 "nbformat": 4,
 "nbformat_minor": 2
}
