{
 "cells": [
  {
   "cell_type": "code",
   "execution_count": 1,
   "metadata": {},
   "outputs": [],
   "source": [
    "import contextily as cx\n",
    "import xyzservices.providers as xyz\n",
    "import matplotlib.pyplot as plt\n",
    "import geopandas as gpd\n",
    "import pyproj\n",
    "import rasterio as rio\n",
    "import geopandas as gpd #pip install geopandas descartes\n",
    "from rasterio.warp import calculate_default_transform, reproject, Resampling\n",
    "import os"
   ]
  },
  {
   "cell_type": "code",
   "execution_count": 2,
   "metadata": {},
   "outputs": [],
   "source": [
    "def reproject_raster(in_path, out_path, dst_crs, bounds):\n",
    "\n",
    "    # reproject raster to project crs\n",
    "    with rio.open(in_path) as src:\n",
    "        src_crs = src.crs\n",
    "        print(f\"Current projection: {src_crs}\")\n",
    "        transform, width, height = calculate_default_transform(src_crs, dst_crs, src.width, src.height, *bounds)\n",
    "        kwargs = src.meta.copy()\n",
    "\n",
    "        kwargs.update({\n",
    "            'crs': dst_crs,\n",
    "            'transform': transform,\n",
    "            'width': width,\n",
    "            'height': height})\n",
    "\n",
    "        with rio.open(out_path, 'w', **kwargs) as dst:\n",
    "            for i in range(1, src.count + 1):\n",
    "                reproject(\n",
    "                    source=rio.band(src, i),\n",
    "                    destination=rio.band(dst, i),\n",
    "                    src_transform=src.transform,\n",
    "                    src_crs=src.crs,\n",
    "                    dst_transform=transform,\n",
    "                    dst_crs=dst_crs,\n",
    "                    resampling=Resampling.bilinear)\n",
    "            print(f\"New projection: {dst.crs}\")\n",
    "    return out_path"
   ]
  },
  {
   "cell_type": "code",
   "execution_count": 3,
   "metadata": {},
   "outputs": [],
   "source": [
    "RASTER_DIR = \"../raster_maps/\"\n",
    "areas = [\n",
    "    'Centro',   \n",
    "    'Oeste',\n",
    "    'Sul1',\n",
    "    'Sul2',\n",
    "    'Norte1',\n",
    "    'Norte2',\n",
    "    'Leste1',\n",
    "    'Leste2'\n",
    "]\n",
    "\n",
    "crs = pyproj.CRS({'proj': 'longlat', 'ellps': 'WGS84', 'no_defs': True})      \n"
   ]
  },
  {
   "cell_type": "code",
   "execution_count": null,
   "metadata": {},
   "outputs": [],
   "source": [
    "# for area in areas:\n",
    "#     db = gpd.read_file(f\"../new_maps/{area}_modified/{area}_modified.shp\")\n",
    "#     db.to_crs({'init': 'epsg:3857'}, inplace=True)\n",
    "\n",
    "#     w, s, e, n = db.total_bounds\n",
    "#     reproject_raster(f\"{RASTER_DIR}{area}.tiff\", f\"{RASTER_DIR}{area}_modified.tiff\", crs, db.total_bounds)"
   ]
  },
  {
   "cell_type": "code",
   "execution_count": 6,
   "metadata": {},
   "outputs": [
    {
     "name": "stderr",
     "output_type": "stream",
     "text": [
      "/home/milenacsilva/Área de Trabalho/ic/env/lib/python3.9/site-packages/pyproj/crs/crs.py:131: FutureWarning: '+init=<authority>:<code>' syntax is deprecated. '<authority>:<code>' is the preferred initialization method. When making the change, be mindful of axis order changes: https://pyproj4.github.io/pyproj/stable/gotchas.html#axis-order-changes-in-proj-6\n",
      "  in_crs_string = _prepare_from_proj_string(in_crs_string)\n",
      "/home/milenacsilva/Área de Trabalho/ic/env/lib/python3.9/site-packages/contextily/tile.py:581: UserWarning: The inferred zoom level of 14 is not valid for the current tile provider (valid zooms: 1 - 11).\n",
      "  warnings.warn(msg)\n"
     ]
    },
    {
     "name": "stdout",
     "output_type": "stream",
     "text": [
      "Current projection: EPSG:3857\n",
      "New projection: GEOGCS[\"unknown\",DATUM[\"Unknown based on WGS84 ellipsoid\",SPHEROID[\"WGS 84\",6378137,298.257223563,AUTHORITY[\"EPSG\",\"7030\"]]],PRIMEM[\"Greenwich\",0,AUTHORITY[\"EPSG\",\"8901\"]],UNIT[\"degree\",0.0174532925199433,AUTHORITY[\"EPSG\",\"9122\"]],AXIS[\"Longitude\",EAST],AXIS[\"Latitude\",NORTH]]\n"
     ]
    },
    {
     "name": "stderr",
     "output_type": "stream",
     "text": [
      "/home/milenacsilva/Área de Trabalho/ic/env/lib/python3.9/site-packages/pyproj/crs/crs.py:131: FutureWarning: '+init=<authority>:<code>' syntax is deprecated. '<authority>:<code>' is the preferred initialization method. When making the change, be mindful of axis order changes: https://pyproj4.github.io/pyproj/stable/gotchas.html#axis-order-changes-in-proj-6\n",
      "  in_crs_string = _prepare_from_proj_string(in_crs_string)\n",
      "/home/milenacsilva/Área de Trabalho/ic/env/lib/python3.9/site-packages/contextily/tile.py:581: UserWarning: The inferred zoom level of 13 is not valid for the current tile provider (valid zooms: 1 - 11).\n",
      "  warnings.warn(msg)\n"
     ]
    },
    {
     "name": "stdout",
     "output_type": "stream",
     "text": [
      "Current projection: EPSG:3857\n",
      "New projection: GEOGCS[\"unknown\",DATUM[\"Unknown based on WGS84 ellipsoid\",SPHEROID[\"WGS 84\",6378137,298.257223563,AUTHORITY[\"EPSG\",\"7030\"]]],PRIMEM[\"Greenwich\",0,AUTHORITY[\"EPSG\",\"8901\"]],UNIT[\"degree\",0.0174532925199433,AUTHORITY[\"EPSG\",\"9122\"]],AXIS[\"Longitude\",EAST],AXIS[\"Latitude\",NORTH]]\n"
     ]
    },
    {
     "name": "stderr",
     "output_type": "stream",
     "text": [
      "/home/milenacsilva/Área de Trabalho/ic/env/lib/python3.9/site-packages/pyproj/crs/crs.py:131: FutureWarning: '+init=<authority>:<code>' syntax is deprecated. '<authority>:<code>' is the preferred initialization method. When making the change, be mindful of axis order changes: https://pyproj4.github.io/pyproj/stable/gotchas.html#axis-order-changes-in-proj-6\n",
      "  in_crs_string = _prepare_from_proj_string(in_crs_string)\n",
      "/home/milenacsilva/Área de Trabalho/ic/env/lib/python3.9/site-packages/contextily/tile.py:581: UserWarning: The inferred zoom level of 13 is not valid for the current tile provider (valid zooms: 1 - 11).\n",
      "  warnings.warn(msg)\n"
     ]
    },
    {
     "name": "stdout",
     "output_type": "stream",
     "text": [
      "Current projection: EPSG:3857\n",
      "New projection: GEOGCS[\"unknown\",DATUM[\"Unknown based on WGS84 ellipsoid\",SPHEROID[\"WGS 84\",6378137,298.257223563,AUTHORITY[\"EPSG\",\"7030\"]]],PRIMEM[\"Greenwich\",0,AUTHORITY[\"EPSG\",\"8901\"]],UNIT[\"degree\",0.0174532925199433,AUTHORITY[\"EPSG\",\"9122\"]],AXIS[\"Longitude\",EAST],AXIS[\"Latitude\",NORTH]]\n"
     ]
    },
    {
     "name": "stderr",
     "output_type": "stream",
     "text": [
      "/home/milenacsilva/Área de Trabalho/ic/env/lib/python3.9/site-packages/pyproj/crs/crs.py:131: FutureWarning: '+init=<authority>:<code>' syntax is deprecated. '<authority>:<code>' is the preferred initialization method. When making the change, be mindful of axis order changes: https://pyproj4.github.io/pyproj/stable/gotchas.html#axis-order-changes-in-proj-6\n",
      "  in_crs_string = _prepare_from_proj_string(in_crs_string)\n",
      "/home/milenacsilva/Área de Trabalho/ic/env/lib/python3.9/site-packages/contextily/tile.py:581: UserWarning: The inferred zoom level of 12 is not valid for the current tile provider (valid zooms: 1 - 11).\n",
      "  warnings.warn(msg)\n"
     ]
    },
    {
     "name": "stdout",
     "output_type": "stream",
     "text": [
      "Current projection: EPSG:3857\n",
      "New projection: GEOGCS[\"unknown\",DATUM[\"Unknown based on WGS84 ellipsoid\",SPHEROID[\"WGS 84\",6378137,298.257223563,AUTHORITY[\"EPSG\",\"7030\"]]],PRIMEM[\"Greenwich\",0,AUTHORITY[\"EPSG\",\"8901\"]],UNIT[\"degree\",0.0174532925199433,AUTHORITY[\"EPSG\",\"9122\"]],AXIS[\"Longitude\",EAST],AXIS[\"Latitude\",NORTH]]\n"
     ]
    },
    {
     "name": "stderr",
     "output_type": "stream",
     "text": [
      "/home/milenacsilva/Área de Trabalho/ic/env/lib/python3.9/site-packages/pyproj/crs/crs.py:131: FutureWarning: '+init=<authority>:<code>' syntax is deprecated. '<authority>:<code>' is the preferred initialization method. When making the change, be mindful of axis order changes: https://pyproj4.github.io/pyproj/stable/gotchas.html#axis-order-changes-in-proj-6\n",
      "  in_crs_string = _prepare_from_proj_string(in_crs_string)\n",
      "/home/milenacsilva/Área de Trabalho/ic/env/lib/python3.9/site-packages/contextily/tile.py:581: UserWarning: The inferred zoom level of 13 is not valid for the current tile provider (valid zooms: 1 - 11).\n",
      "  warnings.warn(msg)\n"
     ]
    },
    {
     "name": "stdout",
     "output_type": "stream",
     "text": [
      "Current projection: EPSG:3857\n",
      "New projection: GEOGCS[\"unknown\",DATUM[\"Unknown based on WGS84 ellipsoid\",SPHEROID[\"WGS 84\",6378137,298.257223563,AUTHORITY[\"EPSG\",\"7030\"]]],PRIMEM[\"Greenwich\",0,AUTHORITY[\"EPSG\",\"8901\"]],UNIT[\"degree\",0.0174532925199433,AUTHORITY[\"EPSG\",\"9122\"]],AXIS[\"Longitude\",EAST],AXIS[\"Latitude\",NORTH]]\n"
     ]
    },
    {
     "name": "stderr",
     "output_type": "stream",
     "text": [
      "/home/milenacsilva/Área de Trabalho/ic/env/lib/python3.9/site-packages/pyproj/crs/crs.py:131: FutureWarning: '+init=<authority>:<code>' syntax is deprecated. '<authority>:<code>' is the preferred initialization method. When making the change, be mindful of axis order changes: https://pyproj4.github.io/pyproj/stable/gotchas.html#axis-order-changes-in-proj-6\n",
      "  in_crs_string = _prepare_from_proj_string(in_crs_string)\n",
      "/home/milenacsilva/Área de Trabalho/ic/env/lib/python3.9/site-packages/contextily/tile.py:581: UserWarning: The inferred zoom level of 13 is not valid for the current tile provider (valid zooms: 1 - 11).\n",
      "  warnings.warn(msg)\n"
     ]
    },
    {
     "name": "stdout",
     "output_type": "stream",
     "text": [
      "Current projection: EPSG:3857\n",
      "New projection: GEOGCS[\"unknown\",DATUM[\"Unknown based on WGS84 ellipsoid\",SPHEROID[\"WGS 84\",6378137,298.257223563,AUTHORITY[\"EPSG\",\"7030\"]]],PRIMEM[\"Greenwich\",0,AUTHORITY[\"EPSG\",\"8901\"]],UNIT[\"degree\",0.0174532925199433,AUTHORITY[\"EPSG\",\"9122\"]],AXIS[\"Longitude\",EAST],AXIS[\"Latitude\",NORTH]]\n",
      "Current projection: EPSG:3857\n"
     ]
    },
    {
     "name": "stderr",
     "output_type": "stream",
     "text": [
      "/home/milenacsilva/Área de Trabalho/ic/env/lib/python3.9/site-packages/pyproj/crs/crs.py:131: FutureWarning: '+init=<authority>:<code>' syntax is deprecated. '<authority>:<code>' is the preferred initialization method. When making the change, be mindful of axis order changes: https://pyproj4.github.io/pyproj/stable/gotchas.html#axis-order-changes-in-proj-6\n",
      "  in_crs_string = _prepare_from_proj_string(in_crs_string)\n",
      "/home/milenacsilva/Área de Trabalho/ic/env/lib/python3.9/site-packages/contextily/tile.py:581: UserWarning: The inferred zoom level of 13 is not valid for the current tile provider (valid zooms: 1 - 11).\n",
      "  warnings.warn(msg)\n"
     ]
    },
    {
     "name": "stdout",
     "output_type": "stream",
     "text": [
      "New projection: GEOGCS[\"unknown\",DATUM[\"Unknown based on WGS84 ellipsoid\",SPHEROID[\"WGS 84\",6378137,298.257223563,AUTHORITY[\"EPSG\",\"7030\"]]],PRIMEM[\"Greenwich\",0,AUTHORITY[\"EPSG\",\"8901\"]],UNIT[\"degree\",0.0174532925199433,AUTHORITY[\"EPSG\",\"9122\"]],AXIS[\"Longitude\",EAST],AXIS[\"Latitude\",NORTH]]\n"
     ]
    },
    {
     "name": "stderr",
     "output_type": "stream",
     "text": [
      "/home/milenacsilva/Área de Trabalho/ic/env/lib/python3.9/site-packages/pyproj/crs/crs.py:131: FutureWarning: '+init=<authority>:<code>' syntax is deprecated. '<authority>:<code>' is the preferred initialization method. When making the change, be mindful of axis order changes: https://pyproj4.github.io/pyproj/stable/gotchas.html#axis-order-changes-in-proj-6\n",
      "  in_crs_string = _prepare_from_proj_string(in_crs_string)\n",
      "/home/milenacsilva/Área de Trabalho/ic/env/lib/python3.9/site-packages/contextily/tile.py:581: UserWarning: The inferred zoom level of 13 is not valid for the current tile provider (valid zooms: 1 - 11).\n",
      "  warnings.warn(msg)\n"
     ]
    },
    {
     "name": "stdout",
     "output_type": "stream",
     "text": [
      "Current projection: EPSG:3857\n",
      "New projection: GEOGCS[\"unknown\",DATUM[\"Unknown based on WGS84 ellipsoid\",SPHEROID[\"WGS 84\",6378137,298.257223563,AUTHORITY[\"EPSG\",\"7030\"]]],PRIMEM[\"Greenwich\",0,AUTHORITY[\"EPSG\",\"8901\"]],UNIT[\"degree\",0.0174532925199433,AUTHORITY[\"EPSG\",\"9122\"]],AXIS[\"Longitude\",EAST],AXIS[\"Latitude\",NORTH]]\n"
     ]
    }
   ],
   "source": [
    "JAWG_ACCESS_TOKEN=\"laGXnA7M9QfsEnrAWGVe1HSfgDF9ghAYeVn9bbTKLl7ClITmEUUCb1qKbQffeXnJ\"\n",
    "ESRI_ACCESS_TOKEN=\"AAPKa9fe3755a9f149e8957319837fc2a4e10P_k8HkiTW2z7MzIZgCVtDrMSMfNmRQrQe9wea2DLCTZfiDL-nTsQth4zmk2C9G1\"\n",
    "\n",
    "for area in areas:\n",
    "    db = gpd.read_file(f\"../new_maps/{area}_modified/{area}_modified.shp\")\n",
    "    db.to_crs({'init': 'epsg:3857'}, inplace=True)\n",
    "\n",
    "    w, s, e, n = db.total_bounds\n",
    "    # img, ext = cx.bounds2raster(w, s, e, n, f\"{RASTER_DIR}{area}.tiff\", source=xyz.CartoDB.Positron)\n",
    "   \n",
    "    # JAWG\n",
    "    # img, ext = cx.bounds2raster(w, s, e, n, f\"{RASTER_DIR}{area}.tiff\", source=xyz.Jawg.Streets(accessToken=JAWG_ACCESS_TOKEN))\n",
    "    # img, ext = cx.bounds2raster(w, s, e, n, f\"{RASTER_DIR}{area}.tiff\", source=xyz.Jawg.Sunny(accessToken=JAWG_ACCESS_TOKEN))\n",
    "    # img, ext = cx.bounds2raster(w, s, e, n, f\"{RASTER_DIR}{area}.tiff\", source=xyz.Jawg.Light(accessToken=JAWG_ACCESS_TOKEN))\n",
    "   \n",
    "    # img, ext = cx.bounds2raster(w, s, e, n, f\"{RASTER_DIR}{area}.tiff\", source=xyz.OpenStreetMap.France)\n",
    "\n",
    "    # ESRI\n",
    "    # img, ext = cx.bounds2raster(w, s, e, n, f\"{RASTER_DIR}{area}.tiff\", source=xyz.Esri.WorldTopoMap(accessToken=ESRI_ACCESS_TOKEN))\n",
    "    # img, ext = cx.bounds2raster(w, s, e, n, f\"{RASTER_DIR}{area}.tiff\", source=xyz.Esri.WorldStreetMap(accessToken=ESRI_ACCESS_TOKEN))\n",
    "\n",
    "    reproject_raster(f\"{RASTER_DIR}{area}.tiff\", f\"{RASTER_DIR}{area}_modified.tiff\", crs, db.total_bounds)\n"
   ]
  }
 ],
 "metadata": {
  "interpreter": {
   "hash": "1b988f8bb4712b93bcd89fc19d075c18278de67a0fc55beec4a5674ceb7bc71d"
  },
  "kernelspec": {
   "display_name": "Python 3.8.10 64-bit ('env': venv)",
   "language": "python",
   "name": "python3"
  },
  "language_info": {
   "codemirror_mode": {
    "name": "ipython",
    "version": 3
   },
   "file_extension": ".py",
   "mimetype": "text/x-python",
   "name": "python",
   "nbconvert_exporter": "python",
   "pygments_lexer": "ipython3",
   "version": "3.9.7"
  },
  "orig_nbformat": 4
 },
 "nbformat": 4,
 "nbformat_minor": 2
}
