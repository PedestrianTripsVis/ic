{
 "cells": [
  {
   "cell_type": "code",
   "execution_count": null,
   "metadata": {},
   "outputs": [],
   "source": [
    "import contextily as cx\n",
    "import xyzservices.providers as xyz\n",
    "import matplotlib.pyplot as plt\n",
    "import geopandas as gpd\n",
    "import pyproj\n",
    "import rasterio as rio\n",
    "import geopandas as gpd #pip install geopandas descartes\n",
    "from rasterio.warp import calculate_default_transform, reproject, Resampling"
   ]
  },
  {
   "cell_type": "code",
   "execution_count": null,
   "metadata": {},
   "outputs": [],
   "source": [
    "def reproject_raster(in_path, out_path, dst_crs, bounds):\n",
    "\n",
    "    # reproject raster to project crs\n",
    "    with rio.open(in_path) as src:\n",
    "        src_crs = src.crs\n",
    "        print(f\"Current projection: {src_crs}\")\n",
    "        transform, width, height = calculate_default_transform(src_crs, dst_crs, src.width, src.height, *bounds)\n",
    "        kwargs = src.meta.copy()\n",
    "\n",
    "        kwargs.update({\n",
    "            'crs': dst_crs,\n",
    "            'transform': transform,\n",
    "            'width': width,\n",
    "            'height': height})\n",
    "\n",
    "        with rio.open(out_path, 'w', **kwargs) as dst:\n",
    "            for i in range(1, src.count + 1):\n",
    "                reproject(\n",
    "                    source=rio.band(src, i),\n",
    "                    destination=rio.band(dst, i),\n",
    "                    src_transform=src.transform,\n",
    "                    src_crs=src.crs,\n",
    "                    dst_transform=transform,\n",
    "                    dst_crs=dst_crs,\n",
    "                    resampling=Resampling.bilinear)\n",
    "            print(f\"New projection: {dst.crs}\")\n",
    "    return out_path"
   ]
  },
  {
   "cell_type": "code",
   "execution_count": null,
   "metadata": {},
   "outputs": [],
   "source": [
    "RASTER_DIR = \"../raster_maps/\"\n",
    "areas = [\n",
    "    'Centro',   \n",
    "    'Oeste',\n",
    "    'Sul1',\n",
    "    'Sul2',\n",
    "    'Norte1',\n",
    "    'Norte2',\n",
    "    'Leste1',\n",
    "    'Leste2'\n",
    "]\n",
    "\n",
    "crs = pyproj.CRS({'proj': 'longlat', 'ellps': 'WGS84', 'no_defs': True})      \n",
    "\n",
    "\n",
    "for area in areas:\n",
    "    db = gpd.read_file(f\"../new_maps/{area}_modified/{area}_modified.shp\")\n",
    "    db.to_crs({'init': 'epsg:3857'}, inplace=True)\n",
    "\n",
    "    w, s, e, n = db.total_bounds\n",
    "    img, ext = cx.bounds2raster(w, s, e, n, f\"{RASTER_DIR}{area}.tiff\", source=xyz.CartoDB.Positron)\n",
    "    reproject_raster(f\"{RASTER_DIR}{area}.tiff\", f\"{RASTER_DIR}{area}_modified.tiff\", crs, db.total_bounds)\n"
   ]
  }
 ],
 "metadata": {
  "interpreter": {
   "hash": "1b988f8bb4712b93bcd89fc19d075c18278de67a0fc55beec4a5674ceb7bc71d"
  },
  "kernelspec": {
   "display_name": "Python 3.8.10 64-bit ('env': venv)",
   "language": "python",
   "name": "python3"
  },
  "language_info": {
   "codemirror_mode": {
    "name": "ipython",
    "version": 3
   },
   "file_extension": ".py",
   "mimetype": "text/x-python",
   "name": "python",
   "nbconvert_exporter": "python",
   "pygments_lexer": "ipython3",
   "version": "3.9.7"
  },
  "orig_nbformat": 4
 },
 "nbformat": 4,
 "nbformat_minor": 2
}
