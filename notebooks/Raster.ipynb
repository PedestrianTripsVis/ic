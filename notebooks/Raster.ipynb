{
 "cells": [
  {
   "cell_type": "code",
   "execution_count": null,
   "metadata": {},
   "outputs": [],
   "source": [
    "import contextily as cx\n",
    "import xyzservices.providers as xyz\n",
    "import matplotlib.pyplot as plt\n",
    "import geopandas as gpd"
   ]
  },
  {
   "cell_type": "code",
   "execution_count": null,
   "metadata": {},
   "outputs": [],
   "source": [
    "areas = [\n",
    "    'Centro',   \n",
    "    'Oeste',\n",
    "    'Sul1',\n",
    "    'Sul2',\n",
    "    'Norte1',\n",
    "    'Norte2',\n",
    "    'Leste1',\n",
    "    'Leste2'\n",
    "]\n",
    "\n",
    "for area in areas:\n",
    "    db = gpd.read_file(f\"../new_maps/{area}_modified/{area}_modified.shp\")\n",
    "    \n",
    "    w, s, e, n = db.total_bounds\n",
    "    img, ext = cx.bounds2raster(w, s, e, n, f\"../raster_maps/{area}.tiff\", source=xyz.CartoDB.Positron, ll=True)\n",
    "\n",
    "    plt.imshow(img, extent=ext)"
   ]
  }
 ],
 "metadata": {
  "interpreter": {
   "hash": "1b988f8bb4712b93bcd89fc19d075c18278de67a0fc55beec4a5674ceb7bc71d"
  },
  "kernelspec": {
   "display_name": "Python 3.8.10 64-bit ('env': venv)",
   "language": "python",
   "name": "python3"
  },
  "language_info": {
   "codemirror_mode": {
    "name": "ipython",
    "version": 3
   },
   "file_extension": ".py",
   "mimetype": "text/x-python",
   "name": "python",
   "nbconvert_exporter": "python",
   "pygments_lexer": "ipython3",
   "version": "3.9.7"
  },
  "orig_nbformat": 4
 },
 "nbformat": 4,
 "nbformat_minor": 2
}
