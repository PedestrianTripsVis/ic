{
 "cells": [
  {
   "cell_type": "code",
   "execution_count": 6,
   "metadata": {},
   "outputs": [],
   "source": [
    "# General Imports\n",
    "import geopandas as gpd #pip install geopandas descartes\n",
    "import pandas as pd #pip install pandas\n",
    "import matplotlib.pyplot as plt # pip install matplotlib\n",
    "import numpy as np\n",
    "import os\n",
    "\n",
    "# from multiprocessing import Pool\n",
    "# from dbfread import DBF #pip install dbfread\n",
    "# from simpledbf import Dbf5 #pip install simpledbf"
   ]
  },
  {
   "cell_type": "code",
   "execution_count": 7,
   "metadata": {},
   "outputs": [],
   "source": [
    "# Read 'linhatrem' lines shape file\n",
    "def read_shape(shapefile):\n",
    "    # Read the shapefile pointed in the spec.json\n",
    "    print(\"Reading shapefile: \", shapefile)\n",
    "    zones_shape = gpd.read_file(shapefile, encoding='latin')\n",
    "    zones_shape.crs = {'init': 'epsg:22523'}\n",
    "    print(\"Current projection: \", zones_shape.crs)\n",
    "\n",
    "    projection = {'proj': 'longlat', 'ellps': 'WGS84', 'no_defs': True}\n",
    "\n",
    "    # Change projection for long/lat if different and save to new file\n",
    "    if(zones_shape.crs != projection):\n",
    "        print(\"Changing projection.\\n\")\n",
    "        zones_shape.to_crs(, inplace=True)\n",
    "        print(\"Written to \", os.path.dirname(shapefile) + '_modified\\n\\n')\n",
    "        zones_shape.to_file(os.path.dirname(shapefile) + '_modified')\n",
    "\n",
    "    return zones_shape"
   ]
  },
  {
   "cell_type": "code",
   "execution_count": 8,
   "metadata": {},
   "outputs": [
    {
     "name": "stdout",
     "output_type": "stream",
     "text": [
      "Reading shapefile:  ../maps/SubCentral-AreaCentral/SubCentral-AreaCentral.shp\n",
      "Current projection:  +init=epsg:22523 +type=crs\n"
     ]
    },
    {
     "name": "stderr",
     "output_type": "stream",
     "text": [
      "/home/peach/ic/env/lib/python3.8/site-packages/pyproj/crs/crs.py:131: FutureWarning: '+init=<authority>:<code>' syntax is deprecated. '<authority>:<code>' is the preferred initialization method. When making the change, be mindful of axis order changes: https://pyproj4.github.io/pyproj/stable/gotchas.html#axis-order-changes-in-proj-6\n",
      "  in_crs_string = _prepare_from_proj_string(in_crs_string)\n"
     ]
    },
    {
     "ename": "NameError",
     "evalue": "name 'projection' is not defined",
     "output_type": "error",
     "traceback": [
      "\u001b[0;31m---------------------------------------------------------------------------\u001b[0m",
      "\u001b[0;31mNameError\u001b[0m                                 Traceback (most recent call last)",
      "\u001b[0;32m/tmp/ipykernel_5030/699131312.py\u001b[0m in \u001b[0;36m<module>\u001b[0;34m\u001b[0m\n\u001b[1;32m     14\u001b[0m \u001b[0;34m\u001b[0m\u001b[0m\n\u001b[1;32m     15\u001b[0m \u001b[0;32mfor\u001b[0m \u001b[0marea\u001b[0m \u001b[0;32min\u001b[0m \u001b[0mareas\u001b[0m\u001b[0;34m:\u001b[0m\u001b[0;34m\u001b[0m\u001b[0;34m\u001b[0m\u001b[0m\n\u001b[0;32m---> 16\u001b[0;31m     \u001b[0moriginal\u001b[0m \u001b[0;34m=\u001b[0m \u001b[0mread_shape\u001b[0m\u001b[0;34m(\u001b[0m\u001b[0;34mf'{MAPS_DIR}{area}/{area}.shp'\u001b[0m\u001b[0;34m)\u001b[0m\u001b[0;34m\u001b[0m\u001b[0;34m\u001b[0m\u001b[0m\n\u001b[0m\u001b[1;32m     17\u001b[0m     \u001b[0mplt\u001b[0m\u001b[0;34m.\u001b[0m\u001b[0maxis\u001b[0m\u001b[0;34m(\u001b[0m\u001b[0;34m'off'\u001b[0m\u001b[0;34m)\u001b[0m\u001b[0;34m\u001b[0m\u001b[0;34m\u001b[0m\u001b[0m\n\u001b[1;32m     18\u001b[0m     \u001b[0moriginal\u001b[0m\u001b[0;34m.\u001b[0m\u001b[0mplot\u001b[0m\u001b[0;34m(\u001b[0m\u001b[0;34m)\u001b[0m\u001b[0;34m\u001b[0m\u001b[0;34m\u001b[0m\u001b[0m\n",
      "\u001b[0;32m/tmp/ipykernel_5030/4292383247.py\u001b[0m in \u001b[0;36mread_shape\u001b[0;34m(shapefile)\u001b[0m\n\u001b[1;32m      8\u001b[0m \u001b[0;34m\u001b[0m\u001b[0m\n\u001b[1;32m      9\u001b[0m     \u001b[0;31m# Change projection for long/lat if different and save to new file\u001b[0m\u001b[0;34m\u001b[0m\u001b[0;34m\u001b[0m\u001b[0;34m\u001b[0m\u001b[0m\n\u001b[0;32m---> 10\u001b[0;31m     \u001b[0;32mif\u001b[0m\u001b[0;34m(\u001b[0m\u001b[0mzones_shape\u001b[0m\u001b[0;34m.\u001b[0m\u001b[0mcrs\u001b[0m \u001b[0;34m!=\u001b[0m \u001b[0mprojection\u001b[0m\u001b[0;34m)\u001b[0m\u001b[0;34m:\u001b[0m\u001b[0;34m\u001b[0m\u001b[0;34m\u001b[0m\u001b[0m\n\u001b[0m\u001b[1;32m     11\u001b[0m         \u001b[0mprint\u001b[0m\u001b[0;34m(\u001b[0m\u001b[0;34m\"Changing projection.\\n\"\u001b[0m\u001b[0;34m)\u001b[0m\u001b[0;34m\u001b[0m\u001b[0;34m\u001b[0m\u001b[0m\n\u001b[1;32m     12\u001b[0m         \u001b[0mzones_shape\u001b[0m\u001b[0;34m.\u001b[0m\u001b[0mto_crs\u001b[0m\u001b[0;34m(\u001b[0m\u001b[0;34m{\u001b[0m\u001b[0;34m'proj'\u001b[0m\u001b[0;34m:\u001b[0m \u001b[0;34m'longlat'\u001b[0m\u001b[0;34m,\u001b[0m \u001b[0;34m'ellps'\u001b[0m\u001b[0;34m:\u001b[0m \u001b[0;34m'WGS84'\u001b[0m\u001b[0;34m,\u001b[0m \u001b[0;34m'no_defs'\u001b[0m\u001b[0;34m:\u001b[0m \u001b[0;32mTrue\u001b[0m\u001b[0;34m}\u001b[0m\u001b[0;34m,\u001b[0m \u001b[0minplace\u001b[0m\u001b[0;34m=\u001b[0m\u001b[0;32mTrue\u001b[0m\u001b[0;34m)\u001b[0m\u001b[0;34m\u001b[0m\u001b[0;34m\u001b[0m\u001b[0m\n",
      "\u001b[0;31mNameError\u001b[0m: name 'projection' is not defined"
     ]
    }
   ],
   "source": [
    "MAPS_DIR='../maps/'\n",
    "\n",
    "areas = [\n",
    "    'SubCentral-AreaCentral',\n",
    "    'SubCentral-AreaNoroeste',\n",
    "    'SubCentral-AreaNorte',\n",
    "    'SubCentral-AreaNordeste',\n",
    "    'SubCentral-AreaLeste',\n",
    "    'SubCentral-AreaSudeste',\n",
    "    'SubCentral-AreaSul',\n",
    "    'SubCentral-AreaSudoeste',\n",
    "    'SubCentral-AreaOeste' \n",
    "]\n",
    "\n",
    "for area in areas:\n",
    "    original = read_shape(f'{MAPS_DIR}{area}/{area}.shp')\n",
    "    plt.axis('off')\n",
    "    original.plot()\n",
    "    # modified.plot()"
   ]
  },
  {
   "cell_type": "code",
   "execution_count": null,
   "metadata": {},
   "outputs": [],
   "source": []
  }
 ],
 "metadata": {
  "kernelspec": {
   "display_name": "Python 3",
   "language": "python",
   "name": "python3"
  },
  "language_info": {
   "codemirror_mode": {
    "name": "ipython",
    "version": 3
   },
   "file_extension": ".py",
   "mimetype": "text/x-python",
   "name": "python",
   "nbconvert_exporter": "python",
   "pygments_lexer": "ipython3",
   "version": "3.8.10"
  }
 },
 "nbformat": 4,
 "nbformat_minor": 2
}
