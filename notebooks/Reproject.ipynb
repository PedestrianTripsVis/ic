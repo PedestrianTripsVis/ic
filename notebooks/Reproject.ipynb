{
 "cells": [
  {
   "cell_type": "code",
   "execution_count": 3,
   "metadata": {},
   "outputs": [
    {
     "ename": "ModuleNotFoundError",
     "evalue": "No module named 'geopandas'",
     "output_type": "error",
     "traceback": [
      "\u001b[0;31m---------------------------------------------------------------------------\u001b[0m",
      "\u001b[0;31mModuleNotFoundError\u001b[0m                       Traceback (most recent call last)",
      "\u001b[0;32m/tmp/ipykernel_15601/754117025.py\u001b[0m in \u001b[0;36m<module>\u001b[0;34m\u001b[0m\n\u001b[1;32m      1\u001b[0m \u001b[0;31m# General Imports\u001b[0m\u001b[0;34m\u001b[0m\u001b[0;34m\u001b[0m\u001b[0;34m\u001b[0m\u001b[0m\n\u001b[0;32m----> 2\u001b[0;31m \u001b[0;32mimport\u001b[0m \u001b[0mgeopandas\u001b[0m \u001b[0;32mas\u001b[0m \u001b[0mgpd\u001b[0m \u001b[0;31m#pip install geopandas descartes\u001b[0m\u001b[0;34m\u001b[0m\u001b[0;34m\u001b[0m\u001b[0m\n\u001b[0m\u001b[1;32m      3\u001b[0m \u001b[0;32mimport\u001b[0m \u001b[0mpandas\u001b[0m \u001b[0;32mas\u001b[0m \u001b[0mpd\u001b[0m \u001b[0;31m#pip install pandas\u001b[0m\u001b[0;34m\u001b[0m\u001b[0;34m\u001b[0m\u001b[0m\n\u001b[1;32m      4\u001b[0m \u001b[0;32mimport\u001b[0m \u001b[0mmatplotlib\u001b[0m\u001b[0;34m.\u001b[0m\u001b[0mpyplot\u001b[0m \u001b[0;32mas\u001b[0m \u001b[0mplt\u001b[0m \u001b[0;31m# pip install matplotlib\u001b[0m\u001b[0;34m\u001b[0m\u001b[0;34m\u001b[0m\u001b[0m\n\u001b[1;32m      5\u001b[0m \u001b[0;32mimport\u001b[0m \u001b[0mnumpy\u001b[0m \u001b[0;32mas\u001b[0m \u001b[0mnp\u001b[0m\u001b[0;34m\u001b[0m\u001b[0;34m\u001b[0m\u001b[0m\n",
      "\u001b[0;31mModuleNotFoundError\u001b[0m: No module named 'geopandas'"
     ]
    }
   ],
   "source": [
    "# General Imports\n",
    "import geopandas as gpd #pip install geopandas descartes\n",
    "import pandas as pd #pip install pandas\n",
    "import matplotlib.pyplot as plt # pip install matplotlib\n",
    "import numpy as np\n",
    "import os\n",
    "\n",
    "# from multiprocessing import Pool\n",
    "# from dbfread import DBF #pip install dbfread\n",
    "# from simpledbf import Dbf5 #pip install simpledbf"
   ]
  },
  {
   "cell_type": "code",
   "execution_count": 2,
   "metadata": {},
   "outputs": [],
   "source": [
    "# Read 'linhatrem' lines shape file\n",
    "def read_shape(shapefile):\n",
    "    # Read the shapefile pointed in the spec.json\n",
    "    print(\"Reading shapefile: \", shapefile)\n",
    "    zones_shape = gpd.read_file(shapefile, encoding='latin')\n",
    "    zones_shape.crs = {'init': 'epsg:31983'}\n",
    "    print(\"Current projection: \", zones_shape.crs)\n",
    "\n",
    "    # Projection used as Coordinate System, compatible with Cubu lat/lon format\n",
    "    projection = {'proj': 'longlat', 'ellps': 'WGS84', 'no_defs': True}\n",
    "\n",
    "    # Change projection for long/lat if different and save to new file\n",
    "    if(zones_shape.crs != projection):\n",
    "        print(\"Changing projection.\\n\")\n",
    "        zones_shape = zones_shape.to_crs(projection)\n",
    "        print(\"Written to \", os.path.dirname(shapefile) + '_modified\\n\\n')\n",
    "        zones_shape.to_file(os.path.dirname(shapefile) + '_modified')\n",
    "\n",
    "    return zones_shape"
   ]
  },
  {
   "cell_type": "code",
   "execution_count": 3,
   "metadata": {},
   "outputs": [
    {
     "name": "stdout",
     "output_type": "stream",
     "text": [
      "Reading shapefile:  SIRGAS_SHP_linhatrem/SIRGAS_SHP_linhatrem_line.shp\n",
      "Current projection:  {'init': 'epsg:31983'}\n",
      "Changing projection.\n",
      "\n"
     ]
    },
    {
     "name": "stderr",
     "output_type": "stream",
     "text": [
      "/home/tallys/.local/lib/python3.8/site-packages/pyproj/crs.py:77: FutureWarning: '+init=<authority>:<code>' syntax is deprecated. '<authority>:<code>' is the preferred initialization method.\n",
      "  return _prepare_from_string(\" \".join(pjargs))\n"
     ]
    },
    {
     "name": "stdout",
     "output_type": "stream",
     "text": [
      "Written to  SIRGAS_SHP_linhatrem_modified\n",
      "\n",
      "\n",
      "Reading shapefile:  SIRGAS_SHP_linhametro/SIRGAS_SHP_linhametro_line.shp\n",
      "Current projection:  {'init': 'epsg:31983'}\n",
      "Changing projection.\n",
      "\n",
      "Written to  SIRGAS_SHP_linhametro_modified\n",
      "\n",
      "\n"
     ]
    },
    {
     "name": "stderr",
     "output_type": "stream",
     "text": [
      "/home/tallys/.local/lib/python3.8/site-packages/pyproj/crs.py:77: FutureWarning: '+init=<authority>:<code>' syntax is deprecated. '<authority>:<code>' is the preferred initialization method.\n",
      "  return _prepare_from_string(\" \".join(pjargs))\n"
     ]
    }
   ],
   "source": [
    "MAPS_DIR='../maps/'\n",
    "read_shape(f'{MAPS_DIR}SubCentral-AreaCentral.shp')"
   ]
  }
 ],
 "metadata": {
  "kernelspec": {
   "display_name": "Python 3",
   "language": "python",
   "name": "python3"
  },
  "language_info": {
   "codemirror_mode": {
    "name": "ipython",
    "version": 3
   },
   "file_extension": ".py",
   "mimetype": "text/x-python",
   "name": "python",
   "nbconvert_exporter": "python",
   "pygments_lexer": "ipython3",
   "version": "3.8.10"
  }
 },
 "nbformat": 4,
 "nbformat_minor": 2
}
