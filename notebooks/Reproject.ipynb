{
 "cells": [
  {
   "cell_type": "code",
   "execution_count": 1,
   "metadata": {},
   "outputs": [],
   "source": [
    "# General Imports\n",
    "import geopandas as gpd #pip install geopandas descartes\n",
    "import pandas as pd #pip install pandas\n",
    "import matplotlib.pyplot as plt # pip install matplotlib\n",
    "import numpy as np\n",
    "import os\n",
    "\n",
    "# from multiprocessing import Pool\n",
    "# from dbfread import DBF #pip install dbfread\n",
    "# from simpledbf import Dbf5 #pip install simpledbf"
   ]
  },
  {
   "cell_type": "code",
   "execution_count": 2,
   "metadata": {},
   "outputs": [],
   "source": [
    "# Read 'linhatrem' lines shape file\n",
    "def read_shape(shapefile):\n",
    "    # Read the shapefile pointed in the spec.json\n",
    "    print(\"Reading shapefile: \", shapefile)\n",
    "    zones_shape = gpd.read_file(shapefile, encoding='latin')\n",
    "    zones_shape.crs = {'init': 'epsg:31983'}\n",
    "    print(\"Current projection: \", zones_shape.crs)\n",
    "\n",
    "    # Projection used as Coordinate System, compatible with Cubu lat/lon format\n",
    "    projection = {'proj': 'longlat', 'ellps': 'WGS84', 'no_defs': True}\n",
    "\n",
    "    # Change projection for long/lat if different and save to new file\n",
    "    if(zones_shape.crs != projection):\n",
    "        print(\"Changing projection.\\n\")\n",
    "        zones_shape = zones_shape.to_crs(projection)\n",
    "        print(\"Written to \", os.path.dirname(shapefile) + '_modified\\n\\n')\n",
    "        zones_shape.to_file(os.path.dirname(shapefile) + '_modified')\n",
    "\n",
    "    return zones_shape"
   ]
  },
  {
   "cell_type": "code",
   "execution_count": 5,
   "metadata": {},
   "outputs": [
    {
     "name": "stdout",
     "output_type": "stream",
     "text": [
      "Reading shapefile:  ../maps/SubCentral-AreaCentral/SubCentral-AreaCentral.shp\n",
      "Current projection:  +init=epsg:31983 +type=crs\n",
      "Changing projection.\n",
      "\n",
      "Written to  ../maps/SubCentral-AreaCentral_modified\n",
      "\n",
      "\n",
      "Reading shapefile:  ../maps/SubCentral-AreaNoroeste/SubCentral-AreaNoroeste.shp\n",
      "Current projection:  +init=epsg:31983 +type=crs\n",
      "Changing projection.\n",
      "\n",
      "Written to  ../maps/SubCentral-AreaNoroeste_modified\n",
      "\n",
      "\n",
      "Reading shapefile:  ../maps/SubCentral-AreaNorte/SubCentral-AreaNorte.shp\n"
     ]
    },
    {
     "name": "stderr",
     "output_type": "stream",
     "text": [
      "/home/peach/ic/env/lib/python3.8/site-packages/pyproj/crs/crs.py:131: FutureWarning: '+init=<authority>:<code>' syntax is deprecated. '<authority>:<code>' is the preferred initialization method. When making the change, be mindful of axis order changes: https://pyproj4.github.io/pyproj/stable/gotchas.html#axis-order-changes-in-proj-6\n",
      "  in_crs_string = _prepare_from_proj_string(in_crs_string)\n",
      "/home/peach/ic/env/lib/python3.8/site-packages/pyproj/crs/crs.py:131: FutureWarning: '+init=<authority>:<code>' syntax is deprecated. '<authority>:<code>' is the preferred initialization method. When making the change, be mindful of axis order changes: https://pyproj4.github.io/pyproj/stable/gotchas.html#axis-order-changes-in-proj-6\n",
      "  in_crs_string = _prepare_from_proj_string(in_crs_string)\n",
      "/home/peach/ic/env/lib/python3.8/site-packages/pyproj/crs/crs.py:131: FutureWarning: '+init=<authority>:<code>' syntax is deprecated. '<authority>:<code>' is the preferred initialization method. When making the change, be mindful of axis order changes: https://pyproj4.github.io/pyproj/stable/gotchas.html#axis-order-changes-in-proj-6\n",
      "  in_crs_string = _prepare_from_proj_string(in_crs_string)\n"
     ]
    },
    {
     "name": "stdout",
     "output_type": "stream",
     "text": [
      "Current projection:  +init=epsg:31983 +type=crs\n",
      "Changing projection.\n",
      "\n",
      "Written to  ../maps/SubCentral-AreaNorte_modified\n",
      "\n",
      "\n",
      "Reading shapefile:  ../maps/SubCentral-AreaNordeste/SubCentral-AreaNordeste.shp\n",
      "Current projection:  +init=epsg:31983 +type=crs\n",
      "Changing projection.\n",
      "\n",
      "Written to  ../maps/SubCentral-AreaNordeste_modified\n",
      "\n",
      "\n"
     ]
    },
    {
     "name": "stderr",
     "output_type": "stream",
     "text": [
      "/home/peach/ic/env/lib/python3.8/site-packages/pyproj/crs/crs.py:131: FutureWarning: '+init=<authority>:<code>' syntax is deprecated. '<authority>:<code>' is the preferred initialization method. When making the change, be mindful of axis order changes: https://pyproj4.github.io/pyproj/stable/gotchas.html#axis-order-changes-in-proj-6\n",
      "  in_crs_string = _prepare_from_proj_string(in_crs_string)\n",
      "/home/peach/ic/env/lib/python3.8/site-packages/pyproj/crs/crs.py:131: FutureWarning: '+init=<authority>:<code>' syntax is deprecated. '<authority>:<code>' is the preferred initialization method. When making the change, be mindful of axis order changes: https://pyproj4.github.io/pyproj/stable/gotchas.html#axis-order-changes-in-proj-6\n",
      "  in_crs_string = _prepare_from_proj_string(in_crs_string)\n"
     ]
    },
    {
     "name": "stdout",
     "output_type": "stream",
     "text": [
      "Reading shapefile:  ../maps/SubCentral-AreaLeste/SubCentral-AreaLeste.shp\n",
      "Current projection:  +init=epsg:31983 +type=crs\n",
      "Changing projection.\n",
      "\n",
      "Written to  ../maps/SubCentral-AreaLeste_modified\n",
      "\n",
      "\n",
      "Reading shapefile:  ../maps/SubCentral-AreaSudeste/SubCentral-AreaSudeste.shp\n",
      "Current projection:  +init=epsg:31983 +type=crs\n",
      "Changing projection.\n",
      "\n",
      "Written to  ../maps/SubCentral-AreaSudeste_modified\n",
      "\n",
      "\n",
      "Reading shapefile:  ../maps/SubCentral-AreaSul/SubCentral-AreaSul.shp\n"
     ]
    },
    {
     "name": "stderr",
     "output_type": "stream",
     "text": [
      "/home/peach/ic/env/lib/python3.8/site-packages/pyproj/crs/crs.py:131: FutureWarning: '+init=<authority>:<code>' syntax is deprecated. '<authority>:<code>' is the preferred initialization method. When making the change, be mindful of axis order changes: https://pyproj4.github.io/pyproj/stable/gotchas.html#axis-order-changes-in-proj-6\n",
      "  in_crs_string = _prepare_from_proj_string(in_crs_string)\n",
      "/home/peach/ic/env/lib/python3.8/site-packages/pyproj/crs/crs.py:131: FutureWarning: '+init=<authority>:<code>' syntax is deprecated. '<authority>:<code>' is the preferred initialization method. When making the change, be mindful of axis order changes: https://pyproj4.github.io/pyproj/stable/gotchas.html#axis-order-changes-in-proj-6\n",
      "  in_crs_string = _prepare_from_proj_string(in_crs_string)\n",
      "/home/peach/ic/env/lib/python3.8/site-packages/pyproj/crs/crs.py:131: FutureWarning: '+init=<authority>:<code>' syntax is deprecated. '<authority>:<code>' is the preferred initialization method. When making the change, be mindful of axis order changes: https://pyproj4.github.io/pyproj/stable/gotchas.html#axis-order-changes-in-proj-6\n",
      "  in_crs_string = _prepare_from_proj_string(in_crs_string)\n"
     ]
    },
    {
     "name": "stdout",
     "output_type": "stream",
     "text": [
      "Current projection:  +init=epsg:31983 +type=crs\n",
      "Changing projection.\n",
      "\n",
      "Written to  ../maps/SubCentral-AreaSul_modified\n",
      "\n",
      "\n",
      "Reading shapefile:  ../maps/SubCentral-AreaSudoeste/SubCentral-AreaSudoeste.shp\n",
      "Current projection:  +init=epsg:31983 +type=crs\n",
      "Changing projection.\n",
      "\n",
      "Written to  ../maps/SubCentral-AreaSudoeste_modified\n",
      "\n",
      "\n",
      "Reading shapefile:  ../maps/SubCentral-AreaOeste/SubCentral-AreaOeste.shp\n",
      "Current projection:  +init=epsg:31983 +type=crs\n",
      "Changing projection.\n",
      "\n",
      "Written to  ../maps/SubCentral-AreaOeste_modified\n",
      "\n",
      "\n"
     ]
    },
    {
     "name": "stderr",
     "output_type": "stream",
     "text": [
      "/home/peach/ic/env/lib/python3.8/site-packages/pyproj/crs/crs.py:131: FutureWarning: '+init=<authority>:<code>' syntax is deprecated. '<authority>:<code>' is the preferred initialization method. When making the change, be mindful of axis order changes: https://pyproj4.github.io/pyproj/stable/gotchas.html#axis-order-changes-in-proj-6\n",
      "  in_crs_string = _prepare_from_proj_string(in_crs_string)\n"
     ]
    }
   ],
   "source": [
    "MAPS_DIR='../maps/'\n",
    "\n",
    "areas = [\n",
    "    'SubCentral-AreaCentral',\n",
    "    'SubCentral-AreaNoroeste',\n",
    "    'SubCentral-AreaNorte',\n",
    "    'SubCentral-AreaNordeste',\n",
    "    'SubCentral-AreaLeste',\n",
    "    'SubCentral-AreaSudeste',\n",
    "    'SubCentral-AreaSul',\n",
    "    'SubCentral-AreaSudoeste',\n",
    "    'SubCentral-AreaOeste' \n",
    "]\n",
    "\n",
    "for area in areas:\n",
    "    read_shape(f'{MAPS_DIR}{area}/{area}.shp')"
   ]
  }
 ],
 "metadata": {
  "kernelspec": {
   "display_name": "Python 3",
   "language": "python",
   "name": "python3"
  },
  "language_info": {
   "codemirror_mode": {
    "name": "ipython",
    "version": 3
   },
   "file_extension": ".py",
   "mimetype": "text/x-python",
   "name": "python",
   "nbconvert_exporter": "python",
   "pygments_lexer": "ipython3",
   "version": "3.8.10"
  }
 },
 "nbformat": 4,
 "nbformat_minor": 2
}
