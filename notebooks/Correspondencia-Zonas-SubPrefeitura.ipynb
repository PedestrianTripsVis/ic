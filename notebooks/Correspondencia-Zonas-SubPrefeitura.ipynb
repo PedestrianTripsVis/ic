{
 "cells": [
  {
   "cell_type": "code",
   "execution_count": 3,
   "metadata": {},
   "outputs": [],
   "source": [
    "import pandas as pd"
   ]
  },
  {
   "cell_type": "code",
   "execution_count": 11,
   "metadata": {},
   "outputs": [
    {
     "data": {
      "text/html": [
       "<div>\n",
       "<style scoped>\n",
       "    .dataframe tbody tr th:only-of-type {\n",
       "        vertical-align: middle;\n",
       "    }\n",
       "\n",
       "    .dataframe tbody tr th {\n",
       "        vertical-align: top;\n",
       "    }\n",
       "\n",
       "    .dataframe thead th {\n",
       "        text-align: right;\n",
       "    }\n",
       "</style>\n",
       "<table border=\"1\" class=\"dataframe\">\n",
       "  <thead>\n",
       "    <tr style=\"text-align: right;\">\n",
       "      <th></th>\n",
       "      <th>n_zona</th>\n",
       "      <th>nome_zona</th>\n",
       "      <th>n_distrito</th>\n",
       "      <th>nome_distrito</th>\n",
       "    </tr>\n",
       "  </thead>\n",
       "  <tbody>\n",
       "    <tr>\n",
       "      <th>0</th>\n",
       "      <td>1</td>\n",
       "      <td>Sé</td>\n",
       "      <td>80</td>\n",
       "      <td>Sé</td>\n",
       "    </tr>\n",
       "    <tr>\n",
       "      <th>1</th>\n",
       "      <td>2</td>\n",
       "      <td>Parque Dom Pedro</td>\n",
       "      <td>80</td>\n",
       "      <td>Sé</td>\n",
       "    </tr>\n",
       "    <tr>\n",
       "      <th>2</th>\n",
       "      <td>3</td>\n",
       "      <td>Praça João Mendes</td>\n",
       "      <td>80</td>\n",
       "      <td>Sé</td>\n",
       "    </tr>\n",
       "    <tr>\n",
       "      <th>3</th>\n",
       "      <td>4</td>\n",
       "      <td>Ladeira da Memória</td>\n",
       "      <td>67</td>\n",
       "      <td>República</td>\n",
       "    </tr>\n",
       "    <tr>\n",
       "      <th>4</th>\n",
       "      <td>5</td>\n",
       "      <td>República</td>\n",
       "      <td>67</td>\n",
       "      <td>República</td>\n",
       "    </tr>\n",
       "  </tbody>\n",
       "</table>\n",
       "</div>"
      ],
      "text/plain": [
       "   n_zona           nome_zona  n_distrito nome_distrito\n",
       "0       1                  Sé          80            Sé\n",
       "1       2    Parque Dom Pedro          80            Sé\n",
       "2       3   Praça João Mendes          80            Sé\n",
       "3       4  Ladeira da Memória          67     República\n",
       "4       5           República          67     República"
      ]
     },
     "execution_count": 11,
     "metadata": {},
     "output_type": "execute_result"
    }
   ],
   "source": [
    "subprefeituras = {\n",
    "    \"Aricanduva\": [\"Aricanduva\", \"Carrão\", \"Vila Formosa\"],\n",
    "    \"Butantã\": [\"Butantã\", \"Morumbi\", \"Raposo Tavares\", \"Rio Pequeno\", \"Vila Sônia\"],\n",
    "    \"Campo Limpo\": [\"Campo Limpo\", \"Capão Redondo\", \"Vila Andrade\"],\n",
    "    \"Capela do Socorro\": [\"Cidade Dutra\", \"Grajaú\", \"Socorro\"],\n",
    "    \"Casa Verde\": [\"Cachoeirinha\", \"Casa Verde\", \"Limão\"],\n",
    "    \"Cidade Ademar\": [\"Cidade Ademar\", \"Pedreira\"],\n",
    "    \"Cidade Tiradentes\": [\"Cidade Tiradentes\"],\n",
    "    \"Ermelino Matarazzo\": [\"Ermelino Matarazzo\", \"Ponte Rasa\"],\n",
    "    \"Freguesia do Ó\": [\"Brasilândia\", \"Freguesia do Ó\"],\n",
    "    \"Guaianases\": [\"Lajeado\", \"Guaianases\"],\n",
    "    \"Ipiranga\": [\"Cursino\", \"Ipiranga\", \"Sacomã\"],\n",
    "    \"Itaim Paulista\": [\"Itaim Paulista\", \"Vila Curuçá\"],\n",
    "    \"Itaquera\": [\"Cidade Líder\", \"Itaquera\", \"José Bonifácio\", \"Parque do Carmo\"],\n",
    "    \"Jabaquara\": [\"Jabaquara\"],\n",
    "    \"Jaçanã\": [\"Jaçanã\", \"Tremembé\"],\n",
    "    \"Lapa\": [\"Barra Funda\", \"Jaguara\", \"Jaguaré\", \"Lapa\", \"Perdizes\", \"Vila Leopoldina\"],\n",
    "    \"M'Boi Mirim\": [\"Jardim Ângela\", \"Jardim São Luís\"],\n",
    "    \"Mooca\": [\"Água Rasa\", \"Belém\", \"Brás\", \"Mooca\", \"Pari\", \"Tatuapé\"],\n",
    "    \"Parelheiros\": [\"Marsilac\", \"Parelheiros\"],\n",
    "    \"Penha\": [\"Artur Alvim\", \"Cangaíba\", \"Penha\", \"Vila Matilde\"],\n",
    "    \"Perus\": [\"Anhanguera\", \"Perus\"],\n",
    "    \"Pinheiros\": [\"Alto de Pinheiros\", \"Itaim Bibi\", \"Jardim Paulista\", \"Pinheiros\"],\n",
    "    \"Pirituba\": [\"Jaraguá\", \"Pirituba\", \"São Domingos\"],\n",
    "    \"Santana\": [\"Mandaqui\", \"Santana\", \"Tucuruvi\"],\n",
    "    \"Santo Amaro\": [\"Campo Belo\", \"Campo Grande\", \"Santo Amaro\"],\n",
    "    \"São Mateus\": [\"Iguatemi\", \"São Rafael\", \"São Mateus\"],\n",
    "    \"São Miguel\": [\"São Miguel\", \"Jardim Helena\", \"Vila Jacuí\"],\n",
    "    \"Sapopemba\": [\"Sapopemba\"],\n",
    "    \"Sé\": [\"Bela Vista\", \"Bom Retiro\", \"Cambuci\", \"Consolação\", \"Liberdade\", \"República\", \"Santa Cecília\", \"Sé\"],\n",
    "    \"Vila Maria/Vila Guilherme\": [\"Vila Guilherme\", \"Vila Maria\", \"Vila Medeiros\"],\n",
    "    \"Vila Mariana\": [\"Moema\", \"Saúde\", \"Vila Mariana\"],\n",
    "    \"Vila Prudente\": [\"São Lucas\", \"Vila Prudente\"]\n",
    "}\n",
    "\n",
    "zonas_distritos = pd.read_csv(\"../extra/Zonas-Distritos.csv\")\n",
    "zonas_distritos.head()"
   ]
  },
  {
   "cell_type": "code",
   "execution_count": 16,
   "metadata": {},
   "outputs": [
    {
     "name": "stdout",
     "output_type": "stream",
     "text": [
      "{'Aricanduva': [212, 213, 208, 209, 210, 211], 'Butantã': [339, 340, 341, 342, 316, 317, 318, 319, 331, 332, 333, 334, 335, 336, 327, 328, 329, 330], 'Campo Limpo': [323, 324, 325, 326, 312, 313, 314, 315, 320, 321, 322], 'Capela do Socorro': [288, 289, 290, 291, 292, 293, 294, 295, 296, 286, 287], 'Casa Verde': [141, 142, 143, 136, 137, 138, 139, 140], 'Cidade Ademar': [277, 278, 279, 284, 285], 'Cidade Tiradentes': [229, 230], 'Ermelino Matarazzo': [179, 180, 181, 182, 183], 'Freguesia do Ó': [120, 121, 122, 123, 124, 125, 126, 127], 'Guaianases': [203, 204, 227, 228], 'Ipiranga': [248, 249, 250, 251, 252, 236, 237, 238, 239, 240, 241, 242, 243, 244, 245, 246, 247], 'Itaim Paulista': [205, 206, 207, 201, 202], 'Itaquera': [219, 220, 221, 189, 190, 191, 192, 193, 194, 195, 225, 226, 222, 223, 224], 'Jabaquara': [273, 274, 275, 276], 'Jaçanã': [155, 156, 157, 147, 148, 149, 150, 151], 'Lapa': [91, 92, 93, 94, 113, 337, 338, 98, 99, 100, 101, 102, 103, 84, 85, 86, 87, 88, 89, 90, 104, 105, 106, 107, 108], \"M'Boi Mirim\": [307, 308, 309, 310, 311, 304, 305, 306], 'Mooca': [46, 47, 48, 38, 39, 40, 41, 42, 13, 14, 15, 16, 17, 43, 44, 45, 10, 11, 12, 166, 167, 168, 169], 'Parelheiros': [299, 297, 298], 'Penha': [217, 218, 174, 175, 176, 177, 178, 170, 171, 172, 173, 214, 215, 216], 'Perus': [117, 118, 119], 'Pinheiros': [95, 96, 97, 68, 69, 70, 71, 72, 73, 74, 75, 76, 77, 78, 79, 80, 81, 82, 83], 'Pirituba': [114, 115, 116, 109, 110, 111, 112], 'Santana': [144, 145, 146, 128, 129, 130, 131, 132, 133, 134, 135, 152, 153, 154], 'Santo Amaro': [268, 269, 270, 271, 272, 280, 281, 282, 283, 300, 301, 302, 303], 'São Mateus': [231, 232, 233, 234, 235, 264, 265, 266, 267], 'São Miguel': [196, 197, 198, 199, 200, 184, 185, 186, 187, 188], 'Sapopemba': [259, 260, 261, 262, 263], 'Sé': [25, 26, 27, 28, 29, 7, 8, 9, 18, 19, 30, 31, 32, 33, 34, 20, 21, 22, 23, 24, 4, 5, 6, 35, 36, 37, 1, 2, 3], 'Vila Maria/Vila Guilherme': [163, 164, 165, 160, 161, 162, 158, 159], 'Vila Mariana': [62, 63, 64, 65, 66, 67, 58, 59, 60, 61, 49, 50, 51, 52, 53, 54, 55, 56, 57], 'Vila Prudente': [256, 257, 258, 253, 254, 255]}\n"
     ]
    }
   ],
   "source": [
    "sub_to_zona = dict()\n",
    "\n",
    "for sub, distritos in subprefeituras.items():\n",
    "    n_zonas = list()\n",
    "    for distrito in distritos:\n",
    "        tmp = list(zonas_distritos.loc[zonas_distritos[\"nome_distrito\"] == distrito][\"n_zona\"])\n",
    "        \n",
    "        if not tmp:\n",
    "            print(\"Erro ao achar o distrito: \", distrito)\n",
    "        else:\n",
    "            n_zonas.extend(tmp)\n",
    "\n",
    "    sub_to_zona[sub] = n_zonas\n",
    "\n",
    "print(sub_to_zona)\n",
    "    "
   ]
  }
 ],
 "metadata": {
  "interpreter": {
   "hash": "b15e90b22920f3616b90081869e634aa2ae7d27bceee100f7f21224d85cbc821"
  },
  "kernelspec": {
   "display_name": "Python 3.9.7 ('env': venv)",
   "language": "python",
   "name": "python3"
  },
  "language_info": {
   "codemirror_mode": {
    "name": "ipython",
    "version": 3
   },
   "file_extension": ".py",
   "mimetype": "text/x-python",
   "name": "python",
   "nbconvert_exporter": "python",
   "pygments_lexer": "ipython3",
   "version": "3.9.7"
  },
  "orig_nbformat": 4
 },
 "nbformat": 4,
 "nbformat_minor": 2
}
