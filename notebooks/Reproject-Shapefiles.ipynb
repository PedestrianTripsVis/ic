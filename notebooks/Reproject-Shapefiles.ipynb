{
 "cells": [
  {
   "cell_type": "code",
   "execution_count": null,
   "metadata": {},
   "outputs": [],
   "source": [
    "# General Imports\n",
    "import geopandas as gpd #pip install geopandas descartes\n",
    "import pandas as pd #pip install pandas\n",
    "import matplotlib.pyplot as plt # pip install matplotlib\n",
    "import numpy as np\n",
    "import os\n",
    "\n",
    "# from multiprocessing import Pool\n",
    "# from dbfread import DBF #pip install dbfread\n",
    "# from simpledbf import Dbf5 #pip install simpledbf"
   ]
  },
  {
   "cell_type": "code",
   "execution_count": null,
   "metadata": {},
   "outputs": [],
   "source": [
    "# Read 'linhatrem' lines shape file\n",
    "def read_shape(shapefile):\n",
    "    # Read the shapefile pointed in the spec.json\n",
    "    print(\"Reading shapefile: \", shapefile)\n",
    "    zones_shape = gpd.read_file(shapefile, encoding='latin')\n",
    "    zones_shape.crs = {'init': 'epsg:22523'}\n",
    "    print(\"Current projection: \", zones_shape.crs)\n",
    "\n",
    "    projection = {'proj': 'longlat', 'ellps': 'WGS84', 'no_defs': True}\n",
    "\n",
    "    # Change projection for long/lat if different and save to new file\n",
    "    if(zones_shape.crs != projection):\n",
    "        print(\"Changing projection.\\n\")\n",
    "        zones_shape.to_crs(projection, inplace=True)\n",
    "        print(\"New projection: \", zones_shape.crs)\n",
    "        print(\"Written to \", os.path.dirname(shapefile) + '_modified\\n\\n')\n",
    "        zones_shape.to_file(os.path.dirname(shapefile) + '_modified')\n",
    "\n",
    "    return zones_shape"
   ]
  },
  {
   "cell_type": "code",
   "execution_count": null,
   "metadata": {},
   "outputs": [],
   "source": [
    "MAPS_DIR='../new_maps/'\n",
    "\n",
    "# areas = [\n",
    "#     'Centro',\n",
    "#     'Oeste',\n",
    "#     'Sul1',\n",
    "#     'Sul2',\n",
    "#     'Norte1',\n",
    "#     'Norte2',\n",
    "#     'Leste1',\n",
    "#     'Leste2'\n",
    "# ]\n",
    "\n",
    "areas = [\n",
    "    'Avenida_Paulista'\n",
    "]\n",
    "\n",
    "for area in areas:\n",
    "    original = read_shape(f'{MAPS_DIR}{area}/{area}.shp')\n",
    "    plt.axis('off')\n",
    "    original.plot()"
   ]
  }
 ],
 "metadata": {
  "kernelspec": {
   "display_name": "Python 3",
   "language": "python",
   "name": "python3"
  },
  "language_info": {
   "codemirror_mode": {
    "name": "ipython",
    "version": 3
   },
   "file_extension": ".py",
   "mimetype": "text/x-python",
   "name": "python",
   "nbconvert_exporter": "python",
   "pygments_lexer": "ipython3",
   "version": "3.9.7"
  }
 },
 "nbformat": 4,
 "nbformat_minor": 2
}
