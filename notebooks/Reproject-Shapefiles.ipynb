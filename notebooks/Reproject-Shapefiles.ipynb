{
 "cells": [
  {
   "cell_type": "code",
   "execution_count": 1,
   "metadata": {},
   "outputs": [],
   "source": [
    "# General Imports\n",
    "import geopandas as gpd #pip install geopandas descartes\n",
    "import pandas as pd #pip install pandas\n",
    "import matplotlib.pyplot as plt # pip install matplotlib\n",
    "import numpy as np\n",
    "import os\n",
    "\n",
    "# from multiprocessing import Pool\n",
    "# from dbfread import DBF #pip install dbfread\n",
    "# from simpledbf import Dbf5 #pip install simpledbf"
   ]
  },
  {
   "cell_type": "code",
   "execution_count": 2,
   "metadata": {},
   "outputs": [],
   "source": [
    "# Read 'linhatrem' lines shape file\n",
    "def read_shape(shapefile):\n",
    "    # Read the shapefile pointed in the spec.json\n",
    "    print(\"Reading shapefile: \", shapefile)\n",
    "    zones_shape = gpd.read_file(shapefile, encoding='latin')\n",
    "    zones_shape.crs = {'init': 'epsg:22523'}\n",
    "    print(\"Current projection: \", zones_shape.crs)\n",
    "\n",
    "    projection = {'proj': 'longlat', 'ellps': 'WGS84', 'no_defs': True}\n",
    "\n",
    "    # Change projection for long/lat if different and save to new file\n",
    "    if(zones_shape.crs != projection):\n",
    "        print(\"Changing projection.\\n\")\n",
    "        zones_shape.to_crs(projection, inplace=True)\n",
    "        print(\"New projection: \", zones_shape.crs)\n",
    "        print(\"Written to \", os.path.dirname(shapefile) + '_modified\\n\\n')\n",
    "        zones_shape.to_file(os.path.dirname(shapefile) + '_modified')\n",
    "\n",
    "    return zones_shape"
   ]
  },
  {
   "cell_type": "code",
   "execution_count": 4,
   "metadata": {},
   "outputs": [
    {
     "name": "stdout",
     "output_type": "stream",
     "text": [
      "Reading shapefile:  ../shapefiles/Metro/Metro.shp\n"
     ]
    },
    {
     "name": "stderr",
     "output_type": "stream",
     "text": [
      "/home/milenacsilva/Área de Trabalho/ic/env/lib/python3.9/site-packages/pyproj/crs/crs.py:131: FutureWarning: '+init=<authority>:<code>' syntax is deprecated. '<authority>:<code>' is the preferred initialization method. When making the change, be mindful of axis order changes: https://pyproj4.github.io/pyproj/stable/gotchas.html#axis-order-changes-in-proj-6\n",
      "  in_crs_string = _prepare_from_proj_string(in_crs_string)\n"
     ]
    },
    {
     "name": "stdout",
     "output_type": "stream",
     "text": [
      "Current projection:  +init=epsg:22523 +type=crs\n",
      "Changing projection.\n",
      "\n",
      "New projection:  +proj=longlat +ellps=WGS84 +no_defs +type=crs\n",
      "Written to  ../shapefiles/Metro_modified\n",
      "\n",
      "\n",
      "Reading shapefile:  ../shapefiles/Ubs/Ubs.shp\n",
      "Current projection:  +init=epsg:22523 +type=crs\n",
      "Changing projection.\n",
      "\n",
      "New projection:  +proj=longlat +ellps=WGS84 +no_defs +type=crs\n",
      "Written to  ../shapefiles/Ubs_modified\n",
      "\n",
      "\n"
     ]
    },
    {
     "name": "stderr",
     "output_type": "stream",
     "text": [
      "/home/milenacsilva/Área de Trabalho/ic/env/lib/python3.9/site-packages/pyproj/crs/crs.py:131: FutureWarning: '+init=<authority>:<code>' syntax is deprecated. '<authority>:<code>' is the preferred initialization method. When making the change, be mindful of axis order changes: https://pyproj4.github.io/pyproj/stable/gotchas.html#axis-order-changes-in-proj-6\n",
      "  in_crs_string = _prepare_from_proj_string(in_crs_string)\n"
     ]
    },
    {
     "data": {
      "image/png": "[encoded data removed]",
      "text/plain": [
       "<Figure size 432x288 with 1 Axes>"
      ]
     },
     "metadata": {
      "needs_background": "light"
     },
     "output_type": "display_data"
    },
    {
     "data": {
      "image/png": "[encoded data removed]",
      "text/plain": [
       "<Figure size 432x288 with 1 Axes>"
      ]
     },
     "metadata": {
      "needs_background": "light"
     },
     "output_type": "display_data"
    },
    {
     "data": {
      "image/png": "[encoded data removed]",
      "text/plain": [
       "<Figure size 432x288 with 1 Axes>"
      ]
     },
     "metadata": {
      "needs_background": "light"
     },
     "output_type": "display_data"
    }
   ],
   "source": [
    "MAPS_DIR='../new_maps/'\n",
    "SHAPEFILES_DIR='../shapefiles/'\n",
    "\n",
    "# areas = [\n",
    "#     'Centro',\n",
    "#     'Oeste',\n",
    "#     'Sul1',\n",
    "#     'Sul2',\n",
    "#     'Norte1',\n",
    "#     'Norte2',\n",
    "#     'Leste1',\n",
    "#     'Leste2'\n",
    "# ]\n",
    "\n",
    "areas = [\n",
    "    'Metro',\n",
    "    'Ubs'\n",
    "]\n",
    "\n",
    "for area in areas:\n",
    "    original = read_shape(f'{SHAPEFILES_DIR}{area}/{area}.shp')\n",
    "    plt.axis('off')\n",
    "    original.plot()"
   ]
  }
 ],
 "metadata": {
  "kernelspec": {
   "display_name": "Python 3",
   "language": "python",
   "name": "python3"
  },
  "language_info": {
   "codemirror_mode": {
    "name": "ipython",
    "version": 3
   },
   "file_extension": ".py",
   "mimetype": "text/x-python",
   "name": "python",
   "nbconvert_exporter": "python",
   "pygments_lexer": "ipython3",
   "version": "3.9.7"
  }
 },
 "nbformat": 4,
 "nbformat_minor": 2
}
