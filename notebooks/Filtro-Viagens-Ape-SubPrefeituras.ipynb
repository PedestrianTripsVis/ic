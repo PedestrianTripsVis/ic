{
 "cells": [
  {
   "cell_type": "code",
   "execution_count": null,
   "metadata": {},
   "outputs": [],
   "source": [
    "import pandas as pd #pip install pandas"
   ]
  },
  {
   "cell_type": "markdown",
   "metadata": {},
   "source": [
    "#### Importando dados originais"
   ]
  },
  {
   "cell_type": "code",
   "execution_count": null,
   "metadata": {},
   "outputs": [],
   "source": [
    "od = pd.read_csv('../data/original/OD_2017_v1.csv')\n",
    "\n",
    "od.head()"
   ]
  },
  {
   "cell_type": "markdown",
   "metadata": {},
   "source": [
    "#### Deixando apenas as viagens com o modo de transporte principal sendo \"a Pé\""
   ]
  },
  {
   "cell_type": "code",
   "execution_count": null,
   "metadata": {},
   "outputs": [],
   "source": [
    "od_walk = od.drop(od[od['MODOPRIN'] != 16.0].index, inplace=False)\n",
    "\n",
    "od_walk.head()\n",
    "print(len(od_walk))"
   ]
  },
  {
   "cell_type": "markdown",
   "metadata": {},
   "source": [
    "#### Filtrando de acordo com os zonas"
   ]
  },
  {
   "cell_type": "code",
   "execution_count": null,
   "metadata": {},
   "outputs": [],
   "source": [
    "areas = {'Aricanduva': [212, 213, 208, 209, 210, 211], 'Butantã': [339, 340, 341, 342, 316, 317, 318, 319, 331, 332, 333, 334, 335, 336, 327, 328, 329, 330], 'Campo Limpo': [323, 324, 325, 326, 312, 313, 314, 315, 320, 321, 322], 'Capela do Socorro': [288, 289, 290, 291, 292, 293, 294, 295, 296, 286, 287], 'Casa Verde': [141, 142, 143, 136, 137, 138, 139, 140], 'Cidade Ademar': [277, 278, 279, 284, 285], 'Cidade Tiradentes': [229, 230], 'Ermelino Matarazzo': [179, 180, 181, 182, 183], 'Freguesia do Ó': [120, 121, 122, 123, 124, 125, 126, 127], 'Guaianases': [203, 204, 227, 228], 'Ipiranga': [248, 249, 250, 251, 252, 236, 237, 238, 239, 240, 241, 242, 243, 244, 245, 246, 247], 'Itaim Paulista': [205, 206, 207, 201, 202], 'Itaquera': [219, 220, 221, 189, 190, 191, 192, 193, 194, 195, 225, 226, 222, 223, 224], 'Jabaquara': [273, 274, 275, 276], 'Jaçanã': [155, 156, 157, 147, 148, 149, 150, 151], 'Lapa': [91, 92, 93, 94, 113, 337, 338, 98, 99, 100, 101, 102, 103, 84, 85, 86, 87, 88, 89, 90, 104, 105, 106, 107, 108], \"M'Boi Mirim\": [307, 308, 309, 310, 311, 304, 305, 306], 'Mooca': [46, 47, 48, 38, 39, 40, 41, 42, 13, 14, 15, 16, 17, 43, 44, 45, 10, 11, 12, 166, 167, 168, 169], 'Parelheiros': [299, 297, 298], 'Penha': [217, 218, 174, 175, 176, 177, 178, 170, 171, 172, 173, 214, 215, 216], 'Perus': [117, 118, 119], 'Pinheiros': [95, 96, 97, 68, 69, 70, 71, 72, 73, 74, 75, 76, 77, 78, 79, 80, 81, 82, 83], 'Pirituba': [114, 115, 116, 109, 110, 111, 112], 'Santana': [144, 145, 146, 128, 129, 130, 131, 132, 133, 134, 135, 152, 153, 154], 'Santo Amaro': [268, 269, 270, 271, 272, 280, 281, 282, 283, 300, 301, 302, 303], 'São Mateus': [231, 232, 233, 234, 235, 264, 265, 266, 267], 'São Miguel': [196, 197, 198, 199, 200, 184, 185, 186, 187, 188], 'Sapopemba': [259, 260, 261, 262, 263], 'Sé': [25, 26, 27, 28, 29, 7, 8, 9, 18, 19, 30, 31, 32, 33, 34, 20, 21, 22, 23, 24, 4, 5, 6, 35, 36, 37, 1, 2, 3], 'Vila Maria/Vila Guilherme': [163, 164, 165, 160, 161, 162, 158, 159], 'Vila Mariana': [62, 63, 64, 65, 66, 67, 58, 59, 60, 61, 49, 50, 51, 52, 53, 54, 55, 56, 57], 'Vila Prudente': [256, 257, 258, 253, 254, 255]}\n",
    "\n",
    "walks_by_area = dict()"
   ]
  },
  {
   "cell_type": "code",
   "execution_count": null,
   "metadata": {},
   "outputs": [],
   "source": [
    "for area, zones in areas.items():\n",
    "    walks = od_walk.drop(od_walk[~(od_walk['ZONA_O'].isin(zones))].index, inplace=False)\n",
    "    walks = walks.drop(walks[~(walks['ZONA_D'].isin(zones))].index, inplace=False)\n",
    "\n",
    "    print(f'{area}: {len(walks)}')\n",
    "    walks_by_area[area] = walks\n"
   ]
  },
  {
   "cell_type": "markdown",
   "metadata": {},
   "source": [
    "#### Salvando os dataframes"
   ]
  },
  {
   "cell_type": "code",
   "execution_count": null,
   "metadata": {},
   "outputs": [],
   "source": [
    "for area, walks in walks_by_area.items():\n",
    "    walks.to_csv(f'../data/walks-by-area-subprefeituras/{area}.csv')"
   ]
  }
 ],
 "metadata": {
  "interpreter": {
   "hash": "1b988f8bb4712b93bcd89fc19d075c18278de67a0fc55beec4a5674ceb7bc71d"
  },
  "kernelspec": {
   "display_name": "Python 3.8.10 64-bit ('env': venv)",
   "language": "python",
   "name": "python3"
  },
  "language_info": {
   "codemirror_mode": {
    "name": "ipython",
    "version": 3
   },
   "file_extension": ".py",
   "mimetype": "text/x-python",
   "name": "python",
   "nbconvert_exporter": "python",
   "pygments_lexer": "ipython3",
   "version": "3.9.7"
  },
  "orig_nbformat": 4
 },
 "nbformat": 4,
 "nbformat_minor": 2
}
