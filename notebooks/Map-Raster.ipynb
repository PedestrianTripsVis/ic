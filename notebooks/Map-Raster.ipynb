{
 "cells": [
  {
   "cell_type": "code",
   "execution_count": 2,
   "metadata": {},
   "outputs": [],
   "source": [
    "import contextily as cx\n",
    "import matplotlib.pyplot as plt\n",
    "import geopandas as gpd"
   ]
  },
  {
   "cell_type": "code",
   "execution_count": 27,
   "metadata": {},
   "outputs": [
    {
     "name": "stderr",
     "output_type": "stream",
     "text": [
      "/home/peach/ic/env/lib/python3.8/site-packages/pyproj/crs/crs.py:131: FutureWarning: '+init=<authority>:<code>' syntax is deprecated. '<authority>:<code>' is the preferred initialization method. When making the change, be mindful of axis order changes: https://pyproj4.github.io/pyproj/stable/gotchas.html#axis-order-changes-in-proj-6\n",
      "  in_crs_string = _prepare_from_proj_string(in_crs_string)\n",
      "/home/peach/ic/env/lib/python3.8/site-packages/contextily/tile.py:581: UserWarning: The inferred zoom level of 33 is not valid for the current tile provider (valid zooms: 0 - 20).\n",
      "  warnings.warn(msg)\n"
     ]
    },
    {
     "data": {
      "text/plain": [
       "<matplotlib.image.AxesImage at 0x7f1b4bb96a00>"
      ]
     },
     "execution_count": 27,
     "metadata": {},
     "output_type": "execute_result"
    },
    {
     "data": {
      "image/png": "[encoded data removed]",
      "text/plain": [
       "<Figure size 432x288 with 1 Axes>"
      ]
     },
     "metadata": {
      "needs_background": "light"
     },
     "output_type": "display_data"
    }
   ],
   "source": [
    "db = gpd.read_file(\"../maps/Se-Distrito_modified/Se-Distrito_modified.shp\")\n",
    "db.crs = {'init': 'epsg:22523'}\n",
    "db.to_crs({'proj': 'longlat', 'ellps':'WGS84', 'no_defs': True}, inplace=True)\n",
    "\n",
    "w, s, e, n = db_crs.total_bounds\n",
    "img, ext = cx.bounds2raster(w, s, e, n, \"../maps/Teste.tiff\", source=cx.providers.CartoDB.Positron, ll=True)\n",
    "\n",
    "plt.imshow(img, extent=ext)\n"
   ]
  }
 ],
 "metadata": {
  "interpreter": {
   "hash": "1b988f8bb4712b93bcd89fc19d075c18278de67a0fc55beec4a5674ceb7bc71d"
  },
  "kernelspec": {
   "display_name": "Python 3.8.10 64-bit ('env': venv)",
   "language": "python",
   "name": "python3"
  },
  "language_info": {
   "codemirror_mode": {
    "name": "ipython",
    "version": 3
   },
   "file_extension": ".py",
   "mimetype": "text/x-python",
   "name": "python",
   "nbconvert_exporter": "python",
   "pygments_lexer": "ipython3",
   "version": "3.8.10"
  },
  "orig_nbformat": 4
 },
 "nbformat": 4,
 "nbformat_minor": 2
}
