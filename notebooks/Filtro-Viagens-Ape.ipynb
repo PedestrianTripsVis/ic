{
 "cells": [
  {
   "cell_type": "code",
   "execution_count": 1,
   "metadata": {},
   "outputs": [],
   "source": [
    "import pandas as pd #pip install pandas"
   ]
  },
  {
   "cell_type": "markdown",
   "metadata": {},
   "source": [
    "#### Importando dados originais"
   ]
  },
  {
   "cell_type": "code",
   "execution_count": 2,
   "metadata": {},
   "outputs": [
    {
     "data": {
      "text/html": [
       "<div>\n",
       "<style scoped>\n",
       "    .dataframe tbody tr th:only-of-type {\n",
       "        vertical-align: middle;\n",
       "    }\n",
       "\n",
       "    .dataframe tbody tr th {\n",
       "        vertical-align: top;\n",
       "    }\n",
       "\n",
       "    .dataframe thead th {\n",
       "        text-align: right;\n",
       "    }\n",
       "</style>\n",
       "<table border=\"1\" class=\"dataframe\">\n",
       "  <thead>\n",
       "    <tr style=\"text-align: right;\">\n",
       "      <th></th>\n",
       "      <th>ZONA</th>\n",
       "      <th>MUNI_DOM</th>\n",
       "      <th>CO_DOM_X</th>\n",
       "      <th>CO_DOM_Y</th>\n",
       "      <th>ID_DOM</th>\n",
       "      <th>F_DOM</th>\n",
       "      <th>FE_DOM</th>\n",
       "      <th>DOM</th>\n",
       "      <th>CD_ENTRE</th>\n",
       "      <th>DATA</th>\n",
       "      <th>...</th>\n",
       "      <th>MODOPRIN</th>\n",
       "      <th>TIPVG</th>\n",
       "      <th>PAG_VIAG</th>\n",
       "      <th>TP_ESAUTO</th>\n",
       "      <th>VL_EST</th>\n",
       "      <th>PE_BICI</th>\n",
       "      <th>VIA_BICI</th>\n",
       "      <th>TP_ESBICI</th>\n",
       "      <th>DISTANCIA</th>\n",
       "      <th>ID_ORDEM</th>\n",
       "    </tr>\n",
       "  </thead>\n",
       "  <tbody>\n",
       "    <tr>\n",
       "      <th>0</th>\n",
       "      <td>1</td>\n",
       "      <td>36</td>\n",
       "      <td>333743</td>\n",
       "      <td>7394463</td>\n",
       "      <td>10001</td>\n",
       "      <td>1</td>\n",
       "      <td>15.416667</td>\n",
       "      <td>1</td>\n",
       "      <td>1</td>\n",
       "      <td>6092017</td>\n",
       "      <td>...</td>\n",
       "      <td>16.0</td>\n",
       "      <td>3.0</td>\n",
       "      <td>NaN</td>\n",
       "      <td>NaN</td>\n",
       "      <td>NaN</td>\n",
       "      <td>1.0</td>\n",
       "      <td>NaN</td>\n",
       "      <td>NaN</td>\n",
       "      <td>639.13</td>\n",
       "      <td>1</td>\n",
       "    </tr>\n",
       "    <tr>\n",
       "      <th>1</th>\n",
       "      <td>1</td>\n",
       "      <td>36</td>\n",
       "      <td>333743</td>\n",
       "      <td>7394463</td>\n",
       "      <td>10001</td>\n",
       "      <td>0</td>\n",
       "      <td>15.416667</td>\n",
       "      <td>1</td>\n",
       "      <td>1</td>\n",
       "      <td>6092017</td>\n",
       "      <td>...</td>\n",
       "      <td>16.0</td>\n",
       "      <td>3.0</td>\n",
       "      <td>NaN</td>\n",
       "      <td>NaN</td>\n",
       "      <td>NaN</td>\n",
       "      <td>1.0</td>\n",
       "      <td>NaN</td>\n",
       "      <td>NaN</td>\n",
       "      <td>639.13</td>\n",
       "      <td>2</td>\n",
       "    </tr>\n",
       "    <tr>\n",
       "      <th>2</th>\n",
       "      <td>1</td>\n",
       "      <td>36</td>\n",
       "      <td>333743</td>\n",
       "      <td>7394463</td>\n",
       "      <td>10001</td>\n",
       "      <td>0</td>\n",
       "      <td>15.416667</td>\n",
       "      <td>1</td>\n",
       "      <td>1</td>\n",
       "      <td>6092017</td>\n",
       "      <td>...</td>\n",
       "      <td>1.0</td>\n",
       "      <td>1.0</td>\n",
       "      <td>2.0</td>\n",
       "      <td>NaN</td>\n",
       "      <td>NaN</td>\n",
       "      <td>NaN</td>\n",
       "      <td>NaN</td>\n",
       "      <td>NaN</td>\n",
       "      <td>6651.77</td>\n",
       "      <td>3</td>\n",
       "    </tr>\n",
       "    <tr>\n",
       "      <th>3</th>\n",
       "      <td>1</td>\n",
       "      <td>36</td>\n",
       "      <td>333743</td>\n",
       "      <td>7394463</td>\n",
       "      <td>10001</td>\n",
       "      <td>0</td>\n",
       "      <td>15.416667</td>\n",
       "      <td>1</td>\n",
       "      <td>1</td>\n",
       "      <td>6092017</td>\n",
       "      <td>...</td>\n",
       "      <td>1.0</td>\n",
       "      <td>1.0</td>\n",
       "      <td>2.0</td>\n",
       "      <td>NaN</td>\n",
       "      <td>NaN</td>\n",
       "      <td>NaN</td>\n",
       "      <td>NaN</td>\n",
       "      <td>NaN</td>\n",
       "      <td>4243.30</td>\n",
       "      <td>4</td>\n",
       "    </tr>\n",
       "    <tr>\n",
       "      <th>4</th>\n",
       "      <td>1</td>\n",
       "      <td>36</td>\n",
       "      <td>333743</td>\n",
       "      <td>7394463</td>\n",
       "      <td>10001</td>\n",
       "      <td>0</td>\n",
       "      <td>15.416667</td>\n",
       "      <td>1</td>\n",
       "      <td>1</td>\n",
       "      <td>6092017</td>\n",
       "      <td>...</td>\n",
       "      <td>12.0</td>\n",
       "      <td>2.0</td>\n",
       "      <td>NaN</td>\n",
       "      <td>NaN</td>\n",
       "      <td>NaN</td>\n",
       "      <td>NaN</td>\n",
       "      <td>NaN</td>\n",
       "      <td>NaN</td>\n",
       "      <td>4557.62</td>\n",
       "      <td>5</td>\n",
       "    </tr>\n",
       "  </tbody>\n",
       "</table>\n",
       "<p>5 rows × 128 columns</p>\n",
       "</div>"
      ],
      "text/plain": [
       "   ZONA  MUNI_DOM  CO_DOM_X  CO_DOM_Y  ID_DOM  F_DOM     FE_DOM  DOM  \\\n",
       "0     1        36    333743   7394463   10001      1  15.416667    1   \n",
       "1     1        36    333743   7394463   10001      0  15.416667    1   \n",
       "2     1        36    333743   7394463   10001      0  15.416667    1   \n",
       "3     1        36    333743   7394463   10001      0  15.416667    1   \n",
       "4     1        36    333743   7394463   10001      0  15.416667    1   \n",
       "\n",
       "   CD_ENTRE     DATA  ...  MODOPRIN  TIPVG  PAG_VIAG  TP_ESAUTO  VL_EST  \\\n",
       "0         1  6092017  ...      16.0    3.0       NaN        NaN     NaN   \n",
       "1         1  6092017  ...      16.0    3.0       NaN        NaN     NaN   \n",
       "2         1  6092017  ...       1.0    1.0       2.0        NaN     NaN   \n",
       "3         1  6092017  ...       1.0    1.0       2.0        NaN     NaN   \n",
       "4         1  6092017  ...      12.0    2.0       NaN        NaN     NaN   \n",
       "\n",
       "   PE_BICI  VIA_BICI  TP_ESBICI  DISTANCIA  ID_ORDEM  \n",
       "0      1.0       NaN        NaN     639.13         1  \n",
       "1      1.0       NaN        NaN     639.13         2  \n",
       "2      NaN       NaN        NaN    6651.77         3  \n",
       "3      NaN       NaN        NaN    4243.30         4  \n",
       "4      NaN       NaN        NaN    4557.62         5  \n",
       "\n",
       "[5 rows x 128 columns]"
      ]
     },
     "execution_count": 2,
     "metadata": {},
     "output_type": "execute_result"
    }
   ],
   "source": [
    "od = pd.read_csv('../data/original/OD_2017_v1.csv')\n",
    "\n",
    "od.head()"
   ]
  },
  {
   "cell_type": "markdown",
   "metadata": {},
   "source": [
    "#### Deixando apenas as viagens com o modo de transporte principal sendo \"a Pé\""
   ]
  },
  {
   "cell_type": "code",
   "execution_count": 3,
   "metadata": {},
   "outputs": [
    {
     "name": "stdout",
     "output_type": "stream",
     "text": [
      "48285\n"
     ]
    }
   ],
   "source": [
    "od_walk = od.drop(od[od['MODOPRIN'] != 16.0].index, inplace=False)\n",
    "\n",
    "od_walk.head()\n",
    "print(len(od_walk))"
   ]
  },
  {
   "cell_type": "markdown",
   "metadata": {},
   "source": [
    "#### Filtrando de acordo com o motivo da viagem"
   ]
  },
  {
   "cell_type": "code",
   "execution_count": 4,
   "metadata": {},
   "outputs": [],
   "source": [
    "walk_reasons = { \n",
    "    1.0: 'Pequena distância',\n",
    "    2.0: 'Condução cara',\n",
    "    3.0: 'Ponto/Estação distante',\n",
    "    4.0: 'Condução demora para passar',\n",
    "    5.0: 'Viagem demorada',\n",
    "    6.0: 'Condução lotada',\n",
    "    7.0: 'Atividade física',\n",
    "    8.0: 'Outros motivos'\n",
    "}\n",
    "\n",
    "od_walks_filtered = dict()\n",
    "for code, reason in walk_reasons.items():\n",
    "    walk = od_walk.drop(od_walk[od_walk['PE_BICI'] != code].index, inplace=False)\n",
    "    od_walks_filtered[code] = walk\n"
   ]
  },
  {
   "cell_type": "code",
   "execution_count": 6,
   "metadata": {},
   "outputs": [
    {
     "name": "stdout",
     "output_type": "stream",
     "text": [
      "22674\n",
      "25611\n"
     ]
    }
   ],
   "source": [
    "walks_woman = od_walk.drop(od_walk[od_walk['SEXO'] != 2.0].index, inplace=False)\n",
    "walks_men = od_walk.drop(od_walk[od_walk['SEXO'] != 1.0].index, inplace=False)\n",
    "\n",
    "print(len(walks_men))\n",
    "print(len(walks_woman))"
   ]
  },
  {
   "cell_type": "markdown",
   "metadata": {},
   "source": [
    "#### Salvando os dataframes"
   ]
  },
  {
   "cell_type": "code",
   "execution_count": 7,
   "metadata": {},
   "outputs": [],
   "source": [
    "# for code, walk in od_walks_filtered.items():\n",
    "#     walk.to_csv(f\"../data/walks-by-reason-{int(code)}.csv\")\n",
    "\n",
    "od_walk.to_csv(f\"../data/all-walks.csv\")\n",
    "walks_men.to_csv(f\"../data/all-walks-men.csv\")\n",
    "walks_woman.to_csv(f\"../data/all-walks-woman.csv\")"
   ]
  }
 ],
 "metadata": {
  "interpreter": {
   "hash": "1b988f8bb4712b93bcd89fc19d075c18278de67a0fc55beec4a5674ceb7bc71d"
  },
  "kernelspec": {
   "display_name": "Python 3.8.10 64-bit ('env': venv)",
   "language": "python",
   "name": "python3"
  },
  "language_info": {
   "codemirror_mode": {
    "name": "ipython",
    "version": 3
   },
   "file_extension": ".py",
   "mimetype": "text/x-python",
   "name": "python",
   "nbconvert_exporter": "python",
   "pygments_lexer": "ipython3",
   "version": "3.8.10"
  },
  "orig_nbformat": 4
 },
 "nbformat": 4,
 "nbformat_minor": 2
}
